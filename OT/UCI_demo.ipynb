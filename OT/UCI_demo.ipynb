{
 "cells": [
  {
   "cell_type": "markdown",
   "metadata": {
    "collapsed": true,
    "pycharm": {
     "name": "#%% md\n"
    }
   },
   "source": [
    "# Missing data imputation using optimal transport\n",
    "\n",
    "In this notebook, we will show how to use optimal transport to impute missing values in an incomplete dataset.\n",
    "\n",
    "The methods we will use are described in the following paper:\n",
    "\n",
    "B. Muzellec, J. Josse, C. Boyer, M. Cuturi, [Missing Data Imputation using Optimal Transport](https://arxiv.org/pdf/2002.03860.pdf)."
   ]
  },
  {
   "cell_type": "markdown",
   "metadata": {
    "collapsed": false
   },
   "source": [
    "## Imports and installs"
   ]
  },
  {
   "cell_type": "code",
   "execution_count": 5,
   "metadata": {
    "collapsed": false,
    "pycharm": {
     "name": "#%%\n"
    }
   },
   "outputs": [
    {
     "name": "stdout",
     "output_type": "stream",
     "text": [
      "Requirement already satisfied: pot in e:\\anaconda\\envs\\py3.10\\lib\\site-packages (0.9.0)\n",
      "Requirement already satisfied: numpy>=1.16 in e:\\anaconda\\envs\\py3.10\\lib\\site-packages (from pot) (1.23.5)\n",
      "Requirement already satisfied: scipy>=1.0 in e:\\anaconda\\envs\\py3.10\\lib\\site-packages (from pot) (1.10.1)\n",
      "Requirement already satisfied: geomloss in e:\\anaconda\\envs\\py3.10\\lib\\site-packages (0.2.6)\n",
      "Requirement already satisfied: torch in e:\\anaconda\\envs\\py3.10\\lib\\site-packages (from geomloss) (2.0.1)\n",
      "Requirement already satisfied: numpy in e:\\anaconda\\envs\\py3.10\\lib\\site-packages (from geomloss) (1.23.5)\n",
      "Requirement already satisfied: filelock in e:\\anaconda\\envs\\py3.10\\lib\\site-packages (from torch->geomloss) (3.10.7)\n",
      "Requirement already satisfied: sympy in e:\\anaconda\\envs\\py3.10\\lib\\site-packages (from torch->geomloss) (1.11.1)\n",
      "Requirement already satisfied: typing-extensions in e:\\anaconda\\envs\\py3.10\\lib\\site-packages (from torch->geomloss) (4.5.0)\n",
      "Requirement already satisfied: networkx in e:\\anaconda\\envs\\py3.10\\lib\\site-packages (from torch->geomloss) (3.0)\n",
      "Requirement already satisfied: jinja2 in e:\\anaconda\\envs\\py3.10\\lib\\site-packages (from torch->geomloss) (3.1.2)\n",
      "Requirement already satisfied: MarkupSafe>=2.0 in e:\\anaconda\\envs\\py3.10\\lib\\site-packages (from jinja2->torch->geomloss) (2.1.2)\n",
      "Requirement already satisfied: mpmath>=0.19 in e:\\anaconda\\envs\\py3.10\\lib\\site-packages (from sympy->torch->geomloss) (1.3.0)\n"
     ]
    }
   ],
   "source": [
    "# Ignore this cell if the corresponding packages are already installed\n",
    "\n",
    "!pip install pot\n",
    "!pip install geomloss"
   ]
  },
  {
   "cell_type": "code",
   "execution_count": 6,
   "metadata": {
    "collapsed": false,
    "pycharm": {
     "name": "#%%\n"
    }
   },
   "outputs": [],
   "source": [
    "%matplotlib inline\n",
    "import matplotlib.pyplot as plt\n",
    "\n",
    "import torch\n",
    "import torch.nn as nn\n",
    "import numpy as np\n",
    "\n",
    "from sklearn.preprocessing import scale\n",
    "from sklearn.experimental import enable_iterative_imputer\n",
    "from sklearn.impute import SimpleImputer, IterativeImputer\n",
    "\n",
    "import os\n",
    "\n",
    "from geomloss import SamplesLoss\n",
    "\n",
    "from imputers import OTimputer, RRimputer\n",
    "\n",
    "from utils import *\n",
    "from data_loaders import dataset_loader\n",
    "from softimpute import softimpute, cv_softimpute\n",
    "\n",
    "import logging\n",
    "logger = logging.getLogger()\n",
    "logger.setLevel(logging.INFO)\n",
    "logging.debug(\"test\")\n",
    "\n",
    "torch.set_default_tensor_type('torch.DoubleTensor')"
   ]
  },
  {
   "cell_type": "markdown",
   "metadata": {
    "collapsed": false,
    "pycharm": {
     "name": "#%% md\n"
    }
   },
   "source": [
    "## Data loading\n",
    "\n",
    "The dataset loader utilities assume there is a \"datasets/\" folder in the current directory."
   ]
  },
  {
   "cell_type": "code",
   "execution_count": 7,
   "metadata": {
    "collapsed": false,
    "pycharm": {
     "name": "#%%\n"
    }
   },
   "outputs": [],
   "source": [
    "if not os.path.isdir(\"datasets\"):\n",
    "    os.mkdir(\"datasets\")"
   ]
  },
  {
   "cell_type": "markdown",
   "metadata": {
    "collapsed": false,
    "pycharm": {
     "name": "#%% md\n"
    }
   },
   "source": [
    "Load the data and whiten it.\n",
    "In a real missing data situation, the mean and std would have to be estimated on non-missing data."
   ]
  },
  {
   "cell_type": "code",
   "execution_count": 8,
   "metadata": {
    "collapsed": false,
    "pycharm": {
     "name": "#%%\n"
    }
   },
   "outputs": [],
   "source": [
    "ground_truth = scale(dataset_loader(\"wine\")) # \"wine\" can be replaced with any of the datasets\n",
    "                                             # supported by dataset_loader (see data_loaders.py)\n",
    "\n",
    "X_true = torch.from_numpy(ground_truth)"
   ]
  },
  {
   "cell_type": "code",
   "execution_count": 20,
   "metadata": {},
   "outputs": [
    {
     "data": {
      "text/plain": [
       "array([[ 1.51861254, -0.5622498 ,  0.23205254, ...,  0.36217728,\n",
       "         1.84791957,  1.01300893],\n",
       "       [ 0.24628963, -0.49941338, -0.82799632, ...,  0.40605066,\n",
       "         1.1134493 ,  0.96524152],\n",
       "       [ 0.19687903,  0.02123125,  1.10933436, ...,  0.31830389,\n",
       "         0.78858745,  1.39514818],\n",
       "       ...,\n",
       "       [ 0.33275817,  1.74474449, -0.38935541, ..., -1.61212515,\n",
       "        -1.48544548,  0.28057537],\n",
       "       [ 0.20923168,  0.22769377,  0.01273209, ..., -1.56825176,\n",
       "        -1.40069891,  0.29649784],\n",
       "       [ 1.39508604,  1.58316512,  1.36520822, ..., -1.52437837,\n",
       "        -1.42894777, -0.59516041]])"
      ]
     },
     "execution_count": 20,
     "metadata": {},
     "output_type": "execute_result"
    }
   ],
   "source": [
    "ground_truth"
   ]
  },
  {
   "cell_type": "code",
   "execution_count": 21,
   "metadata": {},
   "outputs": [
    {
     "data": {
      "text/plain": [
       "tensor([[ 1.5186, -0.5622,  0.2321,  ...,  0.3622,  1.8479,  1.0130],\n",
       "        [ 0.2463, -0.4994, -0.8280,  ...,  0.4061,  1.1134,  0.9652],\n",
       "        [ 0.1969,  0.0212,  1.1093,  ...,  0.3183,  0.7886,  1.3951],\n",
       "        ...,\n",
       "        [ 0.3328,  1.7447, -0.3894,  ..., -1.6121, -1.4854,  0.2806],\n",
       "        [ 0.2092,  0.2277,  0.0127,  ..., -1.5683, -1.4007,  0.2965],\n",
       "        [ 1.3951,  1.5832,  1.3652,  ..., -1.5244, -1.4289, -0.5952]])"
      ]
     },
     "execution_count": 21,
     "metadata": {},
     "output_type": "execute_result"
    }
   ],
   "source": [
    "X_true"
   ]
  },
  {
   "cell_type": "markdown",
   "metadata": {
    "collapsed": false,
    "pycharm": {
     "name": "#%% md\n"
    }
   },
   "source": [
    "## Missing data generation\n",
    "\n",
    "Let's now simulate missing data. We will assume that the data is missing completely at random (MCAR) with a 50% probability.\n",
    "Additional MAR and MNAR missing data mechanisms are available in utils.py."
   ]
  },
  {
   "cell_type": "code",
   "execution_count": 9,
   "metadata": {
    "collapsed": false,
    "pycharm": {
     "name": "#%%\n"
    }
   },
   "outputs": [],
   "source": [
    "np.random.seed(42)\n",
    "\n",
    "p = 0.5\n",
    "\n",
    "mask = np.random.rand(*ground_truth.shape) < p #True for missing values, false for others\n",
    "x_miss = np.copy(ground_truth)\n",
    "\n",
    "x_miss[mask] = np.nan\n",
    "X_miss = torch.from_numpy(x_miss)"
   ]
  },
  {
   "cell_type": "code",
   "execution_count": 22,
   "metadata": {},
   "outputs": [
    {
     "data": {
      "text/plain": [
       "tensor([[    nan, -0.5622,  0.2321,  ...,     nan,  1.8479,  1.0130],\n",
       "        [    nan,     nan,     nan,  ...,     nan,     nan,  0.9652],\n",
       "        [    nan,  0.0212,  1.1093,  ...,     nan,     nan,  1.3951],\n",
       "        ...,\n",
       "        [ 0.3328,  1.7447, -0.3894,  ...,     nan, -1.4854,     nan],\n",
       "        [    nan,     nan,  0.0127,  ...,     nan,     nan,  0.2965],\n",
       "        [ 1.3951,  1.5832,     nan,  ..., -1.5244,     nan, -0.5952]])"
      ]
     },
     "execution_count": 22,
     "metadata": {},
     "output_type": "execute_result"
    }
   ],
   "source": [
    "X_miss"
   ]
  },
  {
   "cell_type": "markdown",
   "metadata": {
    "collapsed": false
   },
   "source": [
    "## Hyperparameters"
   ]
  },
  {
   "cell_type": "code",
   "execution_count": 10,
   "metadata": {
    "collapsed": false,
    "pycharm": {
     "name": "#%%\n"
    }
   },
   "outputs": [],
   "source": [
    "n, d = X_miss.shape\n",
    "batchsize = 128 # If the batch size is larger than half the dataset's size,\n",
    "                # it will be redefined in the imputation methods.\n",
    "lr = 1e-2\n",
    "epsilon = pick_epsilon(X_miss) # Set the regularization parameter as a multiple of the median distance, as per the paper."
   ]
  },
  {
   "cell_type": "markdown",
   "metadata": {
    "collapsed": false,
    "pycharm": {
     "name": "#%% md\n"
    }
   },
   "source": [
    "## Sinkhorn imputation (Algorithm 1)"
   ]
  },
  {
   "cell_type": "code",
   "execution_count": 11,
   "metadata": {
    "collapsed": false,
    "pycharm": {
     "name": "#%%\n"
    }
   },
   "outputs": [],
   "source": [
    "sk_imputer = OTimputer(eps=epsilon, batchsize=batchsize, lr=lr, niter=2000)"
   ]
  },
  {
   "cell_type": "code",
   "execution_count": 12,
   "metadata": {
    "collapsed": false,
    "pycharm": {
     "name": "#%%\n"
    }
   },
   "outputs": [
    {
     "name": "stderr",
     "output_type": "stream",
     "text": [
      "INFO:root:Batchsize larger that half size = 89. Setting batchsize to 64.\n",
      "INFO:root:batchsize = 64, epsilon = 0.2697\n",
      "INFO:root:Iteration 0:\t Loss: 1.5291\t Validation MAE: 0.8639\tRMSE: 1.0581\n",
      "INFO:root:Iteration 500:\t Loss: 1.0695\t Validation MAE: 0.6283\tRMSE: 0.8598\n",
      "INFO:root:Iteration 1000:\t Loss: 0.9570\t Validation MAE: 0.6234\tRMSE: 0.8592\n",
      "INFO:root:Iteration 1500:\t Loss: 1.1069\t Validation MAE: 0.6269\tRMSE: 0.8640\n"
     ]
    }
   ],
   "source": [
    "sk_imp, sk_maes, sk_rmses = sk_imputer.fit_transform(X_miss, verbose=True, report_interval=500, X_true=X_true)"
   ]
  },
  {
   "cell_type": "code",
   "execution_count": 28,
   "metadata": {},
   "outputs": [
    {
     "data": {
      "text/plain": [
       "2000"
      ]
     },
     "execution_count": 28,
     "metadata": {},
     "output_type": "execute_result"
    }
   ],
   "source": []
  },
  {
   "cell_type": "markdown",
   "metadata": {
    "collapsed": false,
    "pycharm": {
     "name": "#%% md\n"
    }
   },
   "source": [
    "## Round-robin imputation (Algorithm 3)\n",
    "\n",
    "Round-robin imputation models iteratively impute each variable using all the other variables.\n",
    "The imputation is performed according to an optimal transport criterion, as in Algorithm 3 in the paper.\n",
    "Any model can be used to perform the variable imputation. It is even possible to specify one type of model per variable\n",
    "(e.g. predict a variable with a linear model, and an other with an MLP), as long as those models gave trainable parameters.\n",
    "\n",
    "We give here two examples. In the first, variables are predicted using linear models, and in the second using a MLP.\n",
    "\n",
    "Note that even if each variable has an associated model of the same type as the others,\n",
    "those models have distinct sets of parameters."
   ]
  },
  {
   "cell_type": "markdown",
   "metadata": {
    "collapsed": false,
    "pycharm": {
     "name": "#%% md\n"
    }
   },
   "source": [
    "### Linear round-robin"
   ]
  },
  {
   "cell_type": "code",
   "execution_count": 13,
   "metadata": {
    "collapsed": false,
    "pycharm": {
     "name": "#%%\n"
    }
   },
   "outputs": [],
   "source": [
    "#Create the imputation models\n",
    "d_ = d - 1\n",
    "models = {}\n",
    "\n",
    "for i in range(d):\n",
    "    models[i] = nn.Linear(d_, 1)\n",
    "\n",
    "#Create the imputer\n",
    "lin_rr_imputer = RRimputer(models, eps=epsilon, lr=lr)"
   ]
  },
  {
   "cell_type": "code",
   "execution_count": 14,
   "metadata": {
    "collapsed": false,
    "pycharm": {
     "name": "#%%\n"
    }
   },
   "outputs": [
    {
     "name": "stderr",
     "output_type": "stream",
     "text": [
      "INFO:root:Batchsize larger that half size = 89. Setting batchsize to 64.\n",
      "INFO:root:Iteration 0:\t Loss: 1.7924\tValidation MAE: 0.7547\tRMSE:  0.9723\n",
      "INFO:root:Iteration 1:\t Loss: 1.3775\tValidation MAE: 0.7091\tRMSE:  0.9337\n",
      "INFO:root:Iteration 2:\t Loss: 1.4092\tValidation MAE: 0.6951\tRMSE:  0.9177\n",
      "INFO:root:Iteration 3:\t Loss: 1.3401\tValidation MAE: 0.6839\tRMSE:  0.9032\n",
      "INFO:root:Iteration 4:\t Loss: 1.3206\tValidation MAE: 0.6732\tRMSE:  0.8946\n",
      "INFO:root:Iteration 5:\t Loss: 1.2974\tValidation MAE: 0.6715\tRMSE:  0.8924\n",
      "INFO:root:Iteration 6:\t Loss: 1.2869\tValidation MAE: 0.6668\tRMSE:  0.8893\n",
      "INFO:root:Iteration 7:\t Loss: 1.2939\tValidation MAE: 0.6682\tRMSE:  0.8933\n",
      "INFO:root:Iteration 8:\t Loss: 1.3819\tValidation MAE: 0.6659\tRMSE:  0.8918\n",
      "INFO:root:Iteration 9:\t Loss: 1.2432\tValidation MAE: 0.6672\tRMSE:  0.8930\n",
      "INFO:root:Early stopping criterion not reached\n"
     ]
    }
   ],
   "source": [
    "lin_imp, lin_maes, lin_rmses = lin_rr_imputer.fit_transform(X_miss, verbose=True, X_true=X_true)"
   ]
  },
  {
   "cell_type": "markdown",
   "metadata": {
    "collapsed": false,
    "pycharm": {
     "name": "#%% md\n"
    }
   },
   "source": [
    "### MLP round-robin"
   ]
  },
  {
   "cell_type": "code",
   "execution_count": 15,
   "metadata": {
    "collapsed": false,
    "pycharm": {
     "name": "#%%\n"
    }
   },
   "outputs": [],
   "source": [
    "#Create the imputation models\n",
    "d_ = d - 1\n",
    "models = {}\n",
    "\n",
    "for i in range(d):\n",
    "    models[i] = nn.Sequential(nn.Linear(d_, 2 * d_),\n",
    "                              nn.ReLU(),\n",
    "                              nn.Linear(2 * d_, d_),\n",
    "                              nn.ReLU(),\n",
    "                              nn.Linear(d_, 1))\n",
    "\n",
    "#Create the imputer\n",
    "mlp_rr_imputer = RRimputer(models, eps=epsilon, lr=lr)"
   ]
  },
  {
   "cell_type": "code",
   "execution_count": 16,
   "metadata": {
    "collapsed": false,
    "pycharm": {
     "name": "#%%\n"
    }
   },
   "outputs": [
    {
     "name": "stderr",
     "output_type": "stream",
     "text": [
      "INFO:root:Batchsize larger that half size = 89. Setting batchsize to 64.\n",
      "INFO:root:Iteration 0:\t Loss: 1.2569\tValidation MAE: 0.6824\tRMSE:  0.9010\n",
      "INFO:root:Iteration 1:\t Loss: 1.2359\tValidation MAE: 0.6548\tRMSE:  0.8830\n",
      "INFO:root:Iteration 2:\t Loss: 1.3309\tValidation MAE: 0.6460\tRMSE:  0.8799\n",
      "INFO:root:Iteration 3:\t Loss: 1.3115\tValidation MAE: 0.6566\tRMSE:  0.8875\n",
      "INFO:root:Iteration 4:\t Loss: 1.6874\tValidation MAE: 0.6626\tRMSE:  0.8994\n",
      "INFO:root:Iteration 5:\t Loss: 1.2471\tValidation MAE: 0.6704\tRMSE:  0.9179\n",
      "INFO:root:Iteration 6:\t Loss: 1.3323\tValidation MAE: 0.6834\tRMSE:  0.9330\n",
      "INFO:root:Iteration 7:\t Loss: 1.2309\tValidation MAE: 0.6865\tRMSE:  0.9400\n",
      "INFO:root:Iteration 8:\t Loss: 1.2040\tValidation MAE: 0.6876\tRMSE:  0.9374\n",
      "INFO:root:Iteration 9:\t Loss: 1.2616\tValidation MAE: 0.6864\tRMSE:  0.9395\n",
      "INFO:root:Early stopping criterion not reached\n"
     ]
    }
   ],
   "source": [
    "mlp_imp, mlp_maes, mlp_rmses = mlp_rr_imputer.fit_transform(X_miss, verbose=True, X_true=X_true)"
   ]
  },
  {
   "cell_type": "markdown",
   "metadata": {
    "collapsed": false,
    "pycharm": {
     "name": "#%% md\n"
    }
   },
   "source": [
    "## Baselines\n",
    "\n",
    "Let's compare OT imputations to some baselines. As in the paper, we consider the following baselines: (i) mean imputation, (ii) iterated conditional ridge regression and (iii) softimpute."
   ]
  },
  {
   "cell_type": "code",
   "execution_count": 17,
   "metadata": {
    "collapsed": false,
    "pycharm": {
     "name": "#%%\n"
    }
   },
   "outputs": [],
   "source": [
    "# Imputation by the means\n",
    "mean_imp = SimpleImputer().fit_transform(x_miss)\n",
    "mean_mae = MAE(mean_imp, ground_truth, mask)\n",
    "mean_rmse = RMSE(mean_imp, ground_truth, mask)\n",
    "\n",
    "# ICE\n",
    "ice_imp = IterativeImputer(random_state=0, max_iter=50).fit_transform(x_miss)\n",
    "ice_mae = MAE(ice_imp, ground_truth, mask)\n",
    "ice_rmse = RMSE(ice_imp, ground_truth, mask)\n",
    "\n",
    "# Softimpute\n",
    "cv_error, grid_lambda = cv_softimpute(x_miss, grid_len=15)\n",
    "lbda = grid_lambda[np.argmin(cv_error)]\n",
    "soft_imp = softimpute((x_miss), lbda)[1]\n",
    "\n",
    "soft_mae = MAE(soft_imp, ground_truth, mask)\n",
    "soft_rmse = RMSE(soft_imp, ground_truth, mask)"
   ]
  },
  {
   "cell_type": "markdown",
   "metadata": {
    "collapsed": false,
    "pycharm": {
     "name": "#%% md\n"
    }
   },
   "source": [
    "## Comparison plots"
   ]
  },
  {
   "cell_type": "code",
   "execution_count": 18,
   "metadata": {
    "collapsed": false,
    "pycharm": {
     "name": "#%%\n"
    }
   },
   "outputs": [
    {
     "data": {
      "image/png": "[encoded data removed]",
      "text/plain": [
       "<Figure size 640x480 with 1 Axes>"
      ]
     },
     "metadata": {},
     "output_type": "display_data"
    }
   ],
   "source": [
    "fig, ax = plt.subplots(constrained_layout=True)\n",
    "npoints = len(sk_maes)\n",
    "\n",
    "ax.plot(np.linspace(0, 1, npoints) * npoints, sk_maes, label='Sinkhorn')\n",
    "ax.set_xticks(np.linspace(0, npoints, 6))\n",
    "ax.set_xlabel('# Sinkhorn iterations')\n",
    "\n",
    "ax.hlines(y=mean_mae, xmin=0, xmax=npoints, label=\"Means\", ls = '--', color='black')\n",
    "ax.hlines(y=ice_mae, xmin=0, xmax=npoints, label=\"ICE\", ls = '--', color='m')\n",
    "ax.hlines(y=soft_mae, xmin=0, xmax=npoints, label=\"Softimpute\", ls = '--', color='c')\n",
    "\n",
    "secax = ax.secondary_xaxis('top', functions=(lambda x: x * len(lin_maes) / npoints, lambda x: x * npoints / len(lin_maes)))\n",
    "secax.set_xlabel('# RR iterations')\n",
    "\n",
    "ax.plot(np.linspace(0, 1, len(lin_maes)) * npoints, lin_maes, label='Linear RR')\n",
    "ax.plot(np.linspace(0, 1, len(mlp_maes)) * npoints, mlp_maes, label='MLP RR')\n",
    "\n",
    "ax.set_ylabel('MAE')\n",
    "plt.legend()\n",
    "plt.show()"
   ]
  },
  {
   "cell_type": "code",
   "execution_count": 19,
   "metadata": {
    "collapsed": false,
    "pycharm": {
     "name": "#%%\n"
    }
   },
   "outputs": [
    {
     "data": {
      "image/png": "[encoded data removed]",
      "text/plain": [
       "<Figure size 640x480 with 1 Axes>"
      ]
     },
     "metadata": {},
     "output_type": "display_data"
    }
   ],
   "source": [
    "fig, ax = plt.subplots(constrained_layout=True)\n",
    "npoints = len(sk_rmses)\n",
    "\n",
    "ax.plot(np.linspace(0, 1, npoints) * npoints, sk_rmses, label='Sinkhorn')\n",
    "ax.set_xticks(np.linspace(0, npoints, 6))\n",
    "ax.set_xlabel('# Sinkhorn iterations')\n",
    "\n",
    "ax.hlines(y=mean_rmse, xmin=0, xmax=npoints, label=\"Means\", ls = '--', color='black')\n",
    "ax.hlines(y=ice_rmse, xmin=0, xmax=npoints, label=\"ICE\", ls = '--', color='m')\n",
    "ax.hlines(y=soft_rmse, xmin=0, xmax=npoints, label=\"Softimpute\", ls = '--', color='c')\n",
    "\n",
    "secax = ax.secondary_xaxis('top', functions=(lambda x: x * len(lin_maes) / npoints, lambda x: x * npoints/ len(lin_maes)))\n",
    "secax.set_xlabel('# RR iterations')\n",
    "\n",
    "ax.plot(np.linspace(0, 1, len(lin_rmses)) * npoints, lin_rmses, label='Linear RR')\n",
    "ax.plot(np.linspace(0, 1, len(mlp_maes)) * npoints, mlp_rmses, label='MLP RR')\n",
    "\n",
    "ax.set_ylabel('RMSE')\n",
    "plt.legend()\n",
    "plt.show()\n",
    "\n",
    "\n",
    "\n"
   ]
  }
 ],
 "metadata": {
  "kernelspec": {
   "display_name": "Python 3",
   "language": "python",
   "name": "python3"
  },
  "language_info": {
   "codemirror_mode": {
    "name": "ipython",
    "version": 3
   },
   "file_extension": ".py",
   "mimetype": "text/x-python",
   "name": "python",
   "nbconvert_exporter": "python",
   "pygments_lexer": "ipython3",
   "version": "3.10.10"
  }
 },
 "nbformat": 4,
 "nbformat_minor": 0
}
