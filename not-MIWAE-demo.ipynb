{
 "cells": [
  {
   "cell_type": "markdown",
   "metadata": {},
   "source": [
    "# not-MIWAE: Deep Generative Modelling with Missing not at Random Data\n",
    "This notebook illustrates how to fit a *deep latent variable model* to data affected by a missing process which depends on the missing data itself, i.e. *missing not at random*.\n",
    "\n",
    "We fit a linear PPCA-like model to a relatively small UCI dataset."
   ]
  },
  {
   "cell_type": "markdown",
   "metadata": {},
   "source": [
    "### Preamble"
   ]
  },
  {
   "cell_type": "code",
   "execution_count": 30,
   "metadata": {},
   "outputs": [],
   "source": [
    "import numpy as np\n",
    "import tensorflow.compat.v1 as tf\n",
    "tf.disable_v2_behavior()\n",
    "import tensorflow_probability as tfp\n",
    "import keras\n",
    "import matplotlib.pyplot as plt\n",
    "import pandas as pd\n",
    "import time\n",
    "\n",
    "# import sys\n",
    "# sys.path.append('./')\n",
    "\n",
    "import os\n",
    "os.environ[\"CUDA_VISIBLE_DEVICES\"] = \"6\"\n",
    "\n",
    "plt.rcParams[\"font.family\"] = \"serif\"\n",
    "plt.rcParams['font.size'] = 15.0\n",
    "plt.rcParams['axes.spines.right'] = False\n",
    "plt.rcParams['axes.spines.top'] = False\n",
    "plt.rcParams['savefig.format'] = 'pdf'\n",
    "plt.rcParams['lines.linewidth'] = 2.5\n"
   ]
  },
  {
   "cell_type": "markdown",
   "metadata": {},
   "source": [
    "### Load data\n",
    "Here we use the white-wine dataset from the UCI database"
   ]
  },
  {
   "cell_type": "code",
   "execution_count": 31,
   "metadata": {
    "collapsed": true
   },
   "outputs": [],
   "source": [
    "url = \"https://archive.ics.uci.edu/ml/machine-learning-databases/wine-quality/winequality-white.csv\"\n",
    "data1 = np.array(pd.read_csv(url, low_memory=False, sep=';'))\n",
    "# ---- drop the classification attribute\n",
    "data = data1[:, :-1]"
   ]
  },
  {
   "cell_type": "code",
   "execution_count": 34,
   "metadata": {},
   "outputs": [
    {
     "data": {
      "text/plain": [
       "array([[ 7.  ,  0.27,  0.36, ...,  0.45,  8.8 ,  6.  ],\n",
       "       [ 6.3 ,  0.3 ,  0.34, ...,  0.49,  9.5 ,  6.  ],\n",
       "       [ 8.1 ,  0.28,  0.4 , ...,  0.44, 10.1 ,  6.  ],\n",
       "       ...,\n",
       "       [ 6.5 ,  0.24,  0.19, ...,  0.46,  9.4 ,  6.  ],\n",
       "       [ 5.5 ,  0.29,  0.3 , ...,  0.38, 12.8 ,  7.  ],\n",
       "       [ 6.  ,  0.21,  0.38, ...,  0.32, 11.8 ,  6.  ]])"
      ]
     },
     "execution_count": 34,
     "metadata": {},
     "output_type": "execute_result"
    }
   ],
   "source": [
    "data1\n",
    "# All numerical and the last column is the label"
   ]
  },
  {
   "cell_type": "markdown",
   "metadata": {},
   "source": [
    "### Settings"
   ]
  },
  {
   "cell_type": "code",
   "execution_count": 35,
   "metadata": {
    "collapsed": true
   },
   "outputs": [],
   "source": [
    "N, D = data.shape\n",
    "n_latent = D - 1\n",
    "n_hidden = 128\n",
    "n_samples = 20\n",
    "max_iter = 30000\n",
    "batch_size = 16"
   ]
  },
  {
   "cell_type": "markdown",
   "metadata": {},
   "source": [
    "### Standardize data"
   ]
  },
  {
   "cell_type": "code",
   "execution_count": 53,
   "metadata": {
    "collapsed": true
   },
   "outputs": [],
   "source": [
    "# ---- standardize data\n",
    "data = data - np.mean(data, axis=0)\n",
    "data = data / np.std(data, axis=0)\n",
    "\n",
    "# ---- random permutation \n",
    "p = np.random.permutation(N)\n",
    "data = data[p, :]\n",
    "\n",
    "# ---- we use the full dataset for training here, but you can make a train-val split\n",
    "Xtrain = data.copy()\n",
    "Xval = Xtrain.copy()"
   ]
  },
  {
   "cell_type": "markdown",
   "metadata": {},
   "source": [
    "### Introduce missing \n",
    "Here we denote\n",
    "- Xnan: data matrix with np.nan as the missing entries\n",
    "- Xz: data matrix with 0 as the missing entries\n",
    "- S: missing mask \n",
    "\n",
    "The missing process depends on the missing data itself:\n",
    "- in half the features, set the feature value to missing when it is higher than the feature mean"
   ]
  },
  {
   "cell_type": "code",
   "execution_count": 54,
   "metadata": {
    "collapsed": true
   },
   "outputs": [],
   "source": [
    "# ---- introduce missing process\n",
    "Xnan = Xtrain.copy()\n",
    "Xz = Xtrain.copy()\n",
    "\n",
    "# Selecte half of them, if the number is less than mean then we seen them as missing\n",
    "# (Using np.nan or 0 to represent)\n",
    "mean = np.mean(Xnan[:, :int(D / 2)], axis=0)\n",
    "ix_larger_than_mean = Xnan[:, :int(D / 2)] > mean\n",
    "\n",
    "Xnan[:, :int(D / 2)][ix_larger_than_mean] = np.nan\n",
    "Xz[:, :int(D / 2)][ix_larger_than_mean] = 0\n",
    "\n",
    "# Mask to indicate if we have missing value\n",
    "S = np.array(~np.isnan(Xnan), dtype=np.float32)"
   ]
  },
  {
   "cell_type": "markdown",
   "metadata": {},
   "source": [
    "### Build the model\n",
    "The model we are building has a Gaussian prior and a Gaussian observation model,\n",
    "\n",
    "$$ p(\\mathbf{z}) = \\mathcal{N}(\\mathbf{z} | \\mathbf{0}, \\mathbf{I})$$\n",
    "\n",
    "$$ p(\\mathbf{x} | \\mathbf{z}) = \\mathcal{N}(\\mathbf{x} | \\mathbf{\\mu}_{\\theta}(\\mathbf{z}), \\sigma^2\\mathbf{I})$$\n",
    "\n",
    "$$ p(\\mathbf{x}) = \\int p(\\mathbf{x} | \\mathbf{z})p(\\mathbf{z}) d\\mathbf{z}$$\n",
    "\n",
    "where $\\mathbf{\\mu}_{\\theta}(\\mathbf{z}): \\mathbb{R}^d \\rightarrow \\mathbb{R}^p $ in general is a deep neural net, but in this case is a linear mapping, $\\mathbf{\\mu} = \\mathbf{Wz + b}$.\n",
    "\n",
    "The variational posterior is also Gaussian\n",
    "\n",
    "$$q_{\\gamma}(\\mathbf{z} | \\mathbf{x}) = \\mathcal{N}(\\mathbf{z} | \\mu_{\\gamma}(\\mathbf{x}), \\sigma_{\\gamma}(\\mathbf{x})^2 \\mathbf{I})$$\n",
    "\n",
    "If the missing process is *missing at random*, it is ignorable and the ELBO becomes, as described in [the MIWAE paper](https://arxiv.org/abs/1812.02633)\n",
    "\n",
    "$$ E_{\\mathbf{z}_1...\\mathbf{z}_K} \\left[ \\log \\frac{1}{K}\\sum_{k=1}^K \\frac{p_{\\theta}(\\mathbf{x^o} | \\mathbf{z}_k)p(\\mathbf{z}_k)}{q_{\\gamma}(\\mathbf{z}_k | \\mathbf{x^o})} \\right] $$\n",
    "\n",
    "When the missing process is MNAR it is non-ignorable and we need to include the missing model. In this example we include the missing model as a logistic regression in each feature dimension\n",
    "\n",
    "$$ p_{\\phi}(\\mathbf{s} | \\mathbf{x^o, x^m}) = \\text{Bern}(\\mathbf{s} | \\pi_{\\phi}(\\mathbf{x^o, x^m}))$$\n",
    "\n",
    "$$ \\pi_{\\phi, j}(x_j) = \\frac{1}{1 + e^{-\\text{logits}_j}} $$\n",
    "\n",
    "$$ \\text{logits}_j = W_j (x_j - b_j) $$\n",
    "\n",
    "The ELBO in the MNAR case becomes\n",
    "\n",
    "$$ E_{(\\mathbf{z}_1, \\mathbf{x}_1^m)...(\\mathbf{z}_K, \\mathbf{x}_K^m)} \\left[ \\log \\frac{1}{K} \\sum_{k=1}^K \\frac{p_{\\phi}(\\mathbf{s} | \\mathbf{x}^o, \\mathbf{x}_k^m) p_{\\theta}(\\mathbf{x}^o | \\mathbf{z}_k) p(\\mathbf{z}_k)}{q_{\\gamma}(\\mathbf{z} | \\mathbf{x}^o)} \\right]$$\n"
   ]
  },
  {
   "cell_type": "markdown",
   "metadata": {},
   "source": [
    "### Inputs\n",
    "Let's first define the inputs of the model\n",
    "- x_pl: data input\n",
    "- s_pl: mask input\n",
    "- n_pl: number of importance samples"
   ]
  },
  {
   "cell_type": "code",
   "execution_count": 55,
   "metadata": {},
   "outputs": [
    {
     "name": "stdout",
     "output_type": "stream",
     "text": [
      "Creating graph...\n"
     ]
    }
   ],
   "source": [
    "print(\"Creating graph...\")\n",
    "tf.reset_default_graph()\n",
    "# ---- input\n",
    "with tf.variable_scope('input'):\n",
    "    x_pl = tf.placeholder(tf.float32, [None, D], 'x_pl')\n",
    "    s_pl = tf.placeholder(tf.float32, [None, D], 's_pl')\n",
    "    n_pl = tf.placeholder(tf.int32, shape=(), name='n_pl')"
   ]
  },
  {
   "cell_type": "markdown",
   "metadata": {},
   "source": [
    "the noise variance is learned as a shared parameter"
   ]
  },
  {
   "cell_type": "code",
   "execution_count": 56,
   "metadata": {},
   "outputs": [],
   "source": [
    "# ---- parameters\n",
    "with tf.variable_scope('data_process'):\n",
    "    logstd = tf.get_variable('logstd', shape=[])"
   ]
  },
  {
   "cell_type": "markdown",
   "metadata": {},
   "source": [
    "### Encoder\n",
    "The encoder / inference network consists of two hidden layers with 128 units and tanh activation"
   ]
  },
  {
   "cell_type": "code",
   "execution_count": 62,
   "metadata": {},
   "outputs": [],
   "source": [
    "x = keras.layers.Dense(units=n_hidden, activation=tf.nn.tanh, name='l_enc1')(x_pl)\n",
    "x = keras.layers.Dense(units=n_hidden, activation=tf.nn.tanh, name='l_enc2')(x)\n",
    "\n",
    "q_mu = keras.layers.Dense(units=n_latent, activation=None, name='q_mu')(x)\n",
    "\n",
    "q_logstd = keras.layers.Dense(units=n_latent, activation=lambda x: tf.clip_by_value(x, -10, 10),\n",
    "                           name='q_logstd')(x)"
   ]
  },
  {
   "cell_type": "markdown",
   "metadata": {},
   "source": [
    "### Variational distribution"
   ]
  },
  {
   "cell_type": "code",
   "execution_count": 11,
   "metadata": {
    "collapsed": true
   },
   "outputs": [],
   "source": [
    "q_z = tfp.distributions.Normal(loc=q_mu, scale=tf.exp(q_logstd))\n",
    "\n",
    "# ---- sample the latent value\n",
    "l_z = q_z.sample(n_pl)                    # shape [n_samples, batch_size, dl]\n",
    "l_z = tf.transpose(l_z, perm=[1, 0, 2])   # shape [batch_size, n_samples, dl]"
   ]
  },
  {
   "cell_type": "markdown",
   "metadata": {},
   "source": [
    "### Decoder"
   ]
  },
  {
   "cell_type": "code",
   "execution_count": 12,
   "metadata": {
    "collapsed": true
   },
   "outputs": [],
   "source": [
    "mu = keras.layers.Dense(units=D, activation=None, name='mu')(l_z)"
   ]
  },
  {
   "cell_type": "markdown",
   "metadata": {},
   "source": [
    "### Observation model / likelihood function"
   ]
  },
  {
   "cell_type": "code",
   "execution_count": 13,
   "metadata": {
    "collapsed": true
   },
   "outputs": [],
   "source": [
    "p_x_given_z = tfp.distributions.Normal(loc=mu, scale=tf.exp(logstd))"
   ]
  },
  {
   "cell_type": "markdown",
   "metadata": {},
   "source": [
    "### Missing model\n",
    "- first mix observed data and samples of missing data\n",
    "- feed through missing model\n",
    "- find likelihood of missing model parameters\n",
    "\n",
    "We have to expand the dimensions of x_pl and s_pl, since mu has size [batch, n_samples, D]"
   ]
  },
  {
   "cell_type": "code",
   "execution_count": 14,
   "metadata": {
    "collapsed": true
   },
   "outputs": [],
   "source": [
    "l_out_mixed = mu * tf.expand_dims(1 - s_pl, axis=1) + tf.expand_dims(x_pl * s_pl, axis=1)"
   ]
  },
  {
   "cell_type": "code",
   "execution_count": 15,
   "metadata": {
    "collapsed": true
   },
   "outputs": [],
   "source": [
    "W = tf.get_variable('W', shape=[1, 1, D])\n",
    "W = -tf.nn.softplus(W)\n",
    "b = tf.get_variable('b', shape=[1, 1, D])\n",
    "\n",
    "logits = W * (l_out_mixed - b)\n",
    "\n",
    "p_s_given_x = tfp.distributions.Bernoulli(logits=logits)"
   ]
  },
  {
   "cell_type": "markdown",
   "metadata": {},
   "source": [
    "### Evaluating likelihoods"
   ]
  },
  {
   "cell_type": "code",
   "execution_count": 16,
   "metadata": {},
   "outputs": [],
   "source": [
    "# ---- evaluate the observed data in p(x|z)\n",
    "log_p_x_given_z = tf.reduce_sum(tf.expand_dims(s_pl, axis=1) * \n",
    "                                p_x_given_z.log_prob(tf.expand_dims(x_pl, axis=1)), axis=-1)  # sum over d-dimension\n",
    "\n",
    "# --- evaluate the z-samples in q(z|x)\n",
    "q_z2 = tfp.distributions.Normal(loc=tf.expand_dims(q_z.loc, axis=1), scale=tf.expand_dims(q_z.scale, axis=1))\n",
    "log_q_z_given_x = tf.reduce_sum(q_z2.log_prob(l_z), axis=-1)\n",
    "\n",
    "# ---- evaluate the z-samples in the prior p(z)\n",
    "prior = tfp.distributions.Normal(loc=0.0, scale=1.0)\n",
    "log_p_z = tf.reduce_sum(prior.log_prob(l_z), axis=-1)\n",
    "\n",
    "# ---- evaluate the mask in p(s|x)\n",
    "log_p_s_given_x = tf.reduce_sum(p_s_given_x.log_prob(tf.expand_dims(s_pl, axis=1)), axis=-1)\n"
   ]
  },
  {
   "cell_type": "markdown",
   "metadata": {},
   "source": [
    "### Losses for the MIWAE and not-MIWAE respectively"
   ]
  },
  {
   "cell_type": "code",
   "execution_count": 17,
   "metadata": {
    "collapsed": true
   },
   "outputs": [],
   "source": [
    "lpxz = log_p_x_given_z\n",
    "lpz = log_p_z\n",
    "lqzx = log_q_z_given_x\n",
    "lpsx = log_p_s_given_x\n",
    "\n",
    "# ---- MIWAE\n",
    "# ---- importance weights\n",
    "l_w = lpxz + lpz - lqzx\n",
    "\n",
    "# ---- sum over samples\n",
    "log_sum_w = tf.reduce_logsumexp(l_w, axis=1)\n",
    "\n",
    "# ---- average over samples\n",
    "log_avg_weight = log_sum_w - tf.log(tf.cast(n_pl, tf.float32))\n",
    "\n",
    "# ---- average over minibatch to get the average llh\n",
    "MIWAE = tf.reduce_mean(log_avg_weight, axis=-1)\n",
    "\n",
    "\n",
    "# ---- not-MIWAE\n",
    "# ---- importance weights\n",
    "l_w = lpxz + lpsx + lpz - lqzx\n",
    "\n",
    "# ---- sum over samples\n",
    "log_sum_w = tf.reduce_logsumexp(l_w, axis=1)\n",
    "\n",
    "# ---- average over samples\n",
    "log_avg_weight = log_sum_w - tf.log(tf.cast(n_pl, tf.float32))\n",
    "\n",
    "# ---- average over minibatch to get the average llh\n",
    "notMIWAE = tf.reduce_mean(log_avg_weight, axis=-1)\n"
   ]
  },
  {
   "cell_type": "markdown",
   "metadata": {},
   "source": [
    "### Training stuff"
   ]
  },
  {
   "cell_type": "code",
   "execution_count": 18,
   "metadata": {
    "collapsed": true
   },
   "outputs": [],
   "source": [
    "# ---- training stuff\n",
    "config = tf.ConfigProto()\n",
    "config.gpu_options.allow_growth = True\n",
    "sess = tf.Session(config=config)\n",
    "global_step = tf.Variable(initial_value=0, trainable=False)\n",
    "optimizer = tf.train.AdamOptimizer()"
   ]
  },
  {
   "cell_type": "markdown",
   "metadata": {},
   "source": [
    "### Choose wether you want to train the MIWAE or the notMIWAE"
   ]
  },
  {
   "cell_type": "code",
   "execution_count": 19,
   "metadata": {
    "collapsed": true
   },
   "outputs": [],
   "source": [
    "loss = -notMIWAE\n",
    "# loss = -MIWAE\n",
    "\n",
    "tvars = tf.trainable_variables()\n",
    "train_op = optimizer.minimize(loss, global_step=global_step, var_list=tvars)\n",
    "sess.run(tf.global_variables_initializer())"
   ]
  },
  {
   "cell_type": "markdown",
   "metadata": {},
   "source": [
    "### Do the training"
   ]
  },
  {
   "cell_type": "code",
   "execution_count": 20,
   "metadata": {},
   "outputs": [
    {
     "name": "stdout",
     "output_type": "stream",
     "text": [
      "0/30000 updates, 0.25 s, 33.18 train_loss, 32.03 val_loss\n",
      "100/30000 updates, 0.18 s, 30.17 train_loss, 30.32 val_loss\n",
      "200/30000 updates, 0.13 s, 29.65 train_loss, 29.13 val_loss\n",
      "300/30000 updates, 0.13 s, 29.02 train_loss, 27.92 val_loss\n",
      "400/30000 updates, 0.12 s, 26.61 train_loss, 26.77 val_loss\n",
      "500/30000 updates, 0.12 s, 25.84 train_loss, 25.70 val_loss\n",
      "600/30000 updates, 0.13 s, 24.26 train_loss, 24.63 val_loss\n",
      "700/30000 updates, 0.13 s, 22.86 train_loss, 23.63 val_loss\n",
      "800/30000 updates, 0.13 s, 22.96 train_loss, 22.66 val_loss\n",
      "900/30000 updates, 0.12 s, 22.50 train_loss, 21.78 val_loss\n",
      "1000/30000 updates, 0.12 s, 21.30 train_loss, 20.96 val_loss\n",
      "1100/30000 updates, 0.13 s, 20.46 train_loss, 20.20 val_loss\n",
      "1200/30000 updates, 0.13 s, 20.07 train_loss, 19.49 val_loss\n",
      "1300/30000 updates, 0.12 s, 18.76 train_loss, 18.86 val_loss\n",
      "1400/30000 updates, 0.12 s, 19.51 train_loss, 18.28 val_loss\n",
      "1500/30000 updates, 0.12 s, 17.89 train_loss, 17.72 val_loss\n",
      "1600/30000 updates, 0.12 s, 16.92 train_loss, 17.15 val_loss\n",
      "1700/30000 updates, 0.12 s, 16.84 train_loss, 16.64 val_loss\n",
      "1800/30000 updates, 0.12 s, 16.24 train_loss, 16.20 val_loss\n",
      "1900/30000 updates, 0.12 s, 15.39 train_loss, 15.77 val_loss\n",
      "2000/30000 updates, 0.12 s, 15.09 train_loss, 15.41 val_loss\n",
      "2100/30000 updates, 0.12 s, 15.66 train_loss, 15.07 val_loss\n",
      "2200/30000 updates, 0.12 s, 14.16 train_loss, 14.81 val_loss\n",
      "2300/30000 updates, 0.12 s, 14.22 train_loss, 14.55 val_loss\n",
      "2400/30000 updates, 0.12 s, 13.84 train_loss, 14.31 val_loss\n",
      "2500/30000 updates, 0.12 s, 15.34 train_loss, 14.10 val_loss\n",
      "2600/30000 updates, 0.12 s, 15.47 train_loss, 13.91 val_loss\n",
      "2700/30000 updates, 0.12 s, 14.10 train_loss, 13.77 val_loss\n",
      "2800/30000 updates, 0.12 s, 13.36 train_loss, 13.62 val_loss\n",
      "2900/30000 updates, 0.12 s, 13.43 train_loss, 13.45 val_loss\n",
      "3000/30000 updates, 0.12 s, 15.13 train_loss, 13.32 val_loss\n",
      "3100/30000 updates, 0.12 s, 12.39 train_loss, 13.17 val_loss\n",
      "3200/30000 updates, 0.12 s, 13.57 train_loss, 13.05 val_loss\n",
      "3300/30000 updates, 0.12 s, 13.16 train_loss, 12.94 val_loss\n",
      "3400/30000 updates, 0.12 s, 12.51 train_loss, 12.88 val_loss\n",
      "3500/30000 updates, 0.12 s, 12.18 train_loss, 12.80 val_loss\n",
      "3600/30000 updates, 0.12 s, 12.54 train_loss, 12.72 val_loss\n",
      "3700/30000 updates, 0.12 s, 13.44 train_loss, 12.69 val_loss\n",
      "3800/30000 updates, 0.12 s, 12.50 train_loss, 12.61 val_loss\n",
      "3900/30000 updates, 0.12 s, 12.21 train_loss, 12.60 val_loss\n",
      "4000/30000 updates, 0.12 s, 13.02 train_loss, 12.54 val_loss\n",
      "4100/30000 updates, 0.12 s, 12.30 train_loss, 12.48 val_loss\n",
      "4200/30000 updates, 0.12 s, 12.29 train_loss, 12.45 val_loss\n",
      "4300/30000 updates, 0.12 s, 11.72 train_loss, 12.43 val_loss\n",
      "4400/30000 updates, 0.12 s, 12.53 train_loss, 12.37 val_loss\n",
      "4500/30000 updates, 0.12 s, 11.03 train_loss, 12.34 val_loss\n",
      "4600/30000 updates, 0.12 s, 12.16 train_loss, 12.41 val_loss\n",
      "4700/30000 updates, 0.12 s, 12.70 train_loss, 12.35 val_loss\n",
      "4800/30000 updates, 0.12 s, 13.02 train_loss, 12.26 val_loss\n",
      "4900/30000 updates, 0.12 s, 12.30 train_loss, 12.24 val_loss\n",
      "5000/30000 updates, 0.12 s, 12.26 train_loss, 12.24 val_loss\n",
      "5100/30000 updates, 0.12 s, 11.62 train_loss, 12.23 val_loss\n",
      "5200/30000 updates, 0.12 s, 11.90 train_loss, 12.19 val_loss\n",
      "5300/30000 updates, 0.12 s, 12.38 train_loss, 12.16 val_loss\n",
      "5400/30000 updates, 0.12 s, 11.81 train_loss, 12.17 val_loss\n",
      "5500/30000 updates, 0.12 s, 12.07 train_loss, 12.13 val_loss\n",
      "5600/30000 updates, 0.12 s, 11.94 train_loss, 12.14 val_loss\n",
      "5700/30000 updates, 0.12 s, 11.66 train_loss, 12.09 val_loss\n",
      "5800/30000 updates, 0.13 s, 11.61 train_loss, 12.07 val_loss\n",
      "5900/30000 updates, 0.12 s, 11.82 train_loss, 12.04 val_loss\n",
      "6000/30000 updates, 0.12 s, 14.33 train_loss, 12.05 val_loss\n",
      "6100/30000 updates, 0.12 s, 12.65 train_loss, 12.02 val_loss\n",
      "6200/30000 updates, 0.12 s, 13.63 train_loss, 12.02 val_loss\n",
      "6300/30000 updates, 0.12 s, 11.62 train_loss, 12.08 val_loss\n",
      "6400/30000 updates, 0.12 s, 10.86 train_loss, 11.99 val_loss\n",
      "6500/30000 updates, 0.12 s, 12.31 train_loss, 11.97 val_loss\n",
      "6600/30000 updates, 0.12 s, 11.62 train_loss, 11.95 val_loss\n",
      "6700/30000 updates, 0.12 s, 11.03 train_loss, 11.98 val_loss\n",
      "6800/30000 updates, 0.12 s, 12.26 train_loss, 11.90 val_loss\n",
      "6900/30000 updates, 0.12 s, 11.62 train_loss, 11.94 val_loss\n",
      "7000/30000 updates, 0.12 s, 12.13 train_loss, 11.89 val_loss\n",
      "7100/30000 updates, 0.12 s, 12.34 train_loss, 11.91 val_loss\n",
      "7200/30000 updates, 0.12 s, 10.55 train_loss, 11.91 val_loss\n",
      "7300/30000 updates, 0.12 s, 12.29 train_loss, 11.89 val_loss\n",
      "7400/30000 updates, 0.12 s, 11.66 train_loss, 11.90 val_loss\n",
      "7500/30000 updates, 0.12 s, 13.18 train_loss, 11.86 val_loss\n",
      "7600/30000 updates, 0.12 s, 11.25 train_loss, 11.87 val_loss\n",
      "7700/30000 updates, 0.12 s, 10.43 train_loss, 11.84 val_loss\n",
      "7800/30000 updates, 0.12 s, 10.65 train_loss, 11.85 val_loss\n",
      "7900/30000 updates, 0.12 s, 12.02 train_loss, 11.85 val_loss\n",
      "8000/30000 updates, 0.12 s, 12.77 train_loss, 11.86 val_loss\n",
      "8100/30000 updates, 0.12 s, 10.81 train_loss, 11.82 val_loss\n",
      "8200/30000 updates, 0.12 s, 10.96 train_loss, 11.80 val_loss\n",
      "8300/30000 updates, 0.12 s, 10.68 train_loss, 11.82 val_loss\n",
      "8400/30000 updates, 0.12 s, 12.38 train_loss, 11.79 val_loss\n",
      "8500/30000 updates, 0.12 s, 11.56 train_loss, 11.79 val_loss\n",
      "8600/30000 updates, 0.12 s, 13.11 train_loss, 11.78 val_loss\n",
      "8700/30000 updates, 0.12 s, 13.46 train_loss, 11.75 val_loss\n",
      "8800/30000 updates, 0.12 s, 12.21 train_loss, 11.75 val_loss\n",
      "8900/30000 updates, 0.12 s, 10.45 train_loss, 11.78 val_loss\n",
      "9000/30000 updates, 0.12 s, 10.85 train_loss, 11.73 val_loss\n",
      "9100/30000 updates, 0.12 s, 12.58 train_loss, 11.71 val_loss\n",
      "9200/30000 updates, 0.12 s, 12.15 train_loss, 11.72 val_loss\n",
      "9300/30000 updates, 0.12 s, 11.55 train_loss, 11.72 val_loss\n",
      "9400/30000 updates, 0.12 s, 11.55 train_loss, 11.71 val_loss\n",
      "9500/30000 updates, 0.12 s, 12.17 train_loss, 11.68 val_loss\n",
      "9600/30000 updates, 0.12 s, 11.72 train_loss, 11.69 val_loss\n",
      "9700/30000 updates, 0.12 s, 11.71 train_loss, 11.73 val_loss\n",
      "9800/30000 updates, 0.12 s, 10.63 train_loss, 11.71 val_loss\n",
      "9900/30000 updates, 0.12 s, 11.80 train_loss, 11.71 val_loss\n",
      "10000/30000 updates, 0.12 s, 12.49 train_loss, 11.70 val_loss\n",
      "10100/30000 updates, 0.12 s, 10.81 train_loss, 11.68 val_loss\n",
      "10200/30000 updates, 0.12 s, 10.85 train_loss, 11.67 val_loss\n",
      "10300/30000 updates, 0.12 s, 11.46 train_loss, 11.67 val_loss\n",
      "10400/30000 updates, 0.12 s, 11.11 train_loss, 11.69 val_loss\n",
      "10500/30000 updates, 0.12 s, 32.99 train_loss, 11.66 val_loss\n",
      "10600/30000 updates, 0.12 s, 11.83 train_loss, 11.66 val_loss\n",
      "10700/30000 updates, 0.12 s, 12.75 train_loss, 11.64 val_loss\n",
      "10800/30000 updates, 0.12 s, 12.91 train_loss, 11.67 val_loss\n",
      "10900/30000 updates, 0.12 s, 10.95 train_loss, 11.64 val_loss\n",
      "11000/30000 updates, 0.12 s, 12.26 train_loss, 11.66 val_loss\n",
      "11100/30000 updates, 0.12 s, 10.49 train_loss, 11.63 val_loss\n",
      "11200/30000 updates, 0.12 s, 24.81 train_loss, 11.64 val_loss\n",
      "11300/30000 updates, 0.12 s, 11.38 train_loss, 11.68 val_loss\n",
      "11400/30000 updates, 0.12 s, 10.96 train_loss, 11.60 val_loss\n",
      "11500/30000 updates, 0.12 s, 12.06 train_loss, 11.59 val_loss\n",
      "11600/30000 updates, 0.12 s, 11.44 train_loss, 11.63 val_loss\n",
      "11700/30000 updates, 0.12 s, 12.87 train_loss, 11.64 val_loss\n",
      "11800/30000 updates, 0.12 s, 10.99 train_loss, 11.63 val_loss\n",
      "11900/30000 updates, 0.12 s, 11.65 train_loss, 11.68 val_loss\n",
      "12000/30000 updates, 0.12 s, 11.25 train_loss, 11.67 val_loss\n",
      "12100/30000 updates, 0.12 s, 10.87 train_loss, 11.60 val_loss\n",
      "12200/30000 updates, 0.12 s, 11.27 train_loss, 11.59 val_loss\n",
      "12300/30000 updates, 0.12 s, 11.87 train_loss, 11.61 val_loss\n",
      "12400/30000 updates, 0.12 s, 11.50 train_loss, 11.61 val_loss\n",
      "12500/30000 updates, 0.12 s, 11.81 train_loss, 11.62 val_loss\n",
      "12600/30000 updates, 0.12 s, 11.48 train_loss, 11.55 val_loss\n",
      "12700/30000 updates, 0.12 s, 11.22 train_loss, 11.56 val_loss\n",
      "12800/30000 updates, 0.12 s, 11.25 train_loss, 11.58 val_loss\n",
      "12900/30000 updates, 0.12 s, 11.97 train_loss, 11.58 val_loss\n",
      "13000/30000 updates, 0.12 s, 11.48 train_loss, 11.58 val_loss\n",
      "13100/30000 updates, 0.12 s, 11.42 train_loss, 11.57 val_loss\n",
      "13200/30000 updates, 0.12 s, 12.24 train_loss, 11.58 val_loss\n",
      "13300/30000 updates, 0.12 s, 11.39 train_loss, 11.53 val_loss\n",
      "13400/30000 updates, 0.12 s, 10.60 train_loss, 11.56 val_loss\n",
      "13500/30000 updates, 0.12 s, 12.57 train_loss, 11.58 val_loss\n",
      "13600/30000 updates, 0.12 s, 12.23 train_loss, 11.57 val_loss\n",
      "13700/30000 updates, 0.12 s, 11.29 train_loss, 11.53 val_loss\n",
      "13800/30000 updates, 0.12 s, 10.49 train_loss, 11.52 val_loss\n",
      "13900/30000 updates, 0.12 s, 11.70 train_loss, 11.55 val_loss\n",
      "14000/30000 updates, 0.12 s, 10.98 train_loss, 11.54 val_loss\n",
      "14100/30000 updates, 0.12 s, 11.23 train_loss, 11.55 val_loss\n",
      "14200/30000 updates, 0.12 s, 10.97 train_loss, 11.50 val_loss\n",
      "14300/30000 updates, 0.12 s, 11.28 train_loss, 11.56 val_loss\n",
      "14400/30000 updates, 0.12 s, 11.01 train_loss, 11.54 val_loss\n",
      "14500/30000 updates, 0.12 s, 11.41 train_loss, 11.54 val_loss\n",
      "14600/30000 updates, 0.12 s, 10.84 train_loss, 11.55 val_loss\n",
      "14700/30000 updates, 0.12 s, 12.33 train_loss, 11.53 val_loss\n",
      "14800/30000 updates, 0.12 s, 12.37 train_loss, 11.56 val_loss\n",
      "14900/30000 updates, 0.12 s, 11.72 train_loss, 11.55 val_loss\n",
      "15000/30000 updates, 0.12 s, 11.82 train_loss, 11.56 val_loss\n",
      "15100/30000 updates, 0.12 s, 11.38 train_loss, 11.56 val_loss\n",
      "15200/30000 updates, 0.12 s, 10.98 train_loss, 11.50 val_loss\n",
      "15300/30000 updates, 0.12 s, 12.49 train_loss, 11.48 val_loss\n",
      "15400/30000 updates, 0.12 s, 12.69 train_loss, 11.54 val_loss\n",
      "15500/30000 updates, 0.12 s, 11.48 train_loss, 11.57 val_loss\n",
      "15600/30000 updates, 0.12 s, 11.40 train_loss, 11.51 val_loss\n",
      "15700/30000 updates, 0.12 s, 11.18 train_loss, 11.50 val_loss\n",
      "15800/30000 updates, 0.12 s, 10.68 train_loss, 11.50 val_loss\n",
      "15900/30000 updates, 0.12 s, 11.75 train_loss, 11.58 val_loss\n",
      "16000/30000 updates, 0.12 s, 11.01 train_loss, 11.51 val_loss\n",
      "16100/30000 updates, 0.12 s, 11.00 train_loss, 11.56 val_loss\n",
      "16200/30000 updates, 0.12 s, 11.70 train_loss, 11.51 val_loss\n",
      "16300/30000 updates, 0.12 s, 11.11 train_loss, 11.57 val_loss\n",
      "16400/30000 updates, 0.12 s, 11.35 train_loss, 11.57 val_loss\n",
      "16500/30000 updates, 0.12 s, 11.44 train_loss, 11.55 val_loss\n",
      "16600/30000 updates, 0.12 s, 11.76 train_loss, 11.64 val_loss\n",
      "16700/30000 updates, 0.12 s, 11.80 train_loss, 11.50 val_loss\n",
      "16800/30000 updates, 0.12 s, 10.31 train_loss, 11.47 val_loss\n",
      "16900/30000 updates, 0.13 s, 11.67 train_loss, 11.50 val_loss\n",
      "17000/30000 updates, 0.13 s, 11.68 train_loss, 11.50 val_loss\n",
      "17100/30000 updates, 0.12 s, 11.34 train_loss, 11.54 val_loss\n",
      "17200/30000 updates, 0.12 s, 13.07 train_loss, 11.50 val_loss\n",
      "17300/30000 updates, 0.12 s, 11.62 train_loss, 11.49 val_loss\n",
      "17400/30000 updates, 0.12 s, 11.88 train_loss, 11.50 val_loss\n",
      "17500/30000 updates, 0.12 s, 11.60 train_loss, 11.49 val_loss\n",
      "17600/30000 updates, 0.12 s, 11.69 train_loss, 11.48 val_loss\n",
      "17700/30000 updates, 0.12 s, 11.76 train_loss, 11.50 val_loss\n",
      "17800/30000 updates, 0.12 s, 11.62 train_loss, 11.48 val_loss\n",
      "17900/30000 updates, 0.12 s, 11.21 train_loss, 11.57 val_loss\n",
      "18000/30000 updates, 0.12 s, 13.64 train_loss, 11.51 val_loss\n",
      "18100/30000 updates, 0.12 s, 10.73 train_loss, 11.52 val_loss\n",
      "18200/30000 updates, 0.12 s, 11.19 train_loss, 11.46 val_loss\n",
      "18300/30000 updates, 0.12 s, 10.62 train_loss, 11.49 val_loss\n",
      "18400/30000 updates, 0.12 s, 11.03 train_loss, 11.46 val_loss\n",
      "18500/30000 updates, 0.12 s, 11.32 train_loss, 11.49 val_loss\n",
      "18600/30000 updates, 0.12 s, 11.39 train_loss, 11.46 val_loss\n",
      "18700/30000 updates, 0.12 s, 11.70 train_loss, 11.47 val_loss\n",
      "18800/30000 updates, 0.12 s, 10.41 train_loss, 11.61 val_loss\n",
      "18900/30000 updates, 0.12 s, 12.01 train_loss, 11.50 val_loss\n",
      "19000/30000 updates, 0.12 s, 12.16 train_loss, 11.47 val_loss\n",
      "19100/30000 updates, 0.12 s, 11.45 train_loss, 11.47 val_loss\n",
      "19200/30000 updates, 0.12 s, 10.88 train_loss, 11.48 val_loss\n",
      "19300/30000 updates, 0.12 s, 10.49 train_loss, 11.49 val_loss\n",
      "19400/30000 updates, 0.12 s, 11.88 train_loss, 11.44 val_loss\n",
      "19500/30000 updates, 0.12 s, 11.56 train_loss, 11.44 val_loss\n",
      "19600/30000 updates, 0.12 s, 11.19 train_loss, 11.58 val_loss\n",
      "19700/30000 updates, 0.12 s, 10.89 train_loss, 11.45 val_loss\n",
      "19800/30000 updates, 0.12 s, 10.57 train_loss, 11.58 val_loss\n",
      "19900/30000 updates, 0.12 s, 9.99 train_loss, 11.50 val_loss\n",
      "20000/30000 updates, 0.12 s, 10.89 train_loss, 11.47 val_loss\n",
      "20100/30000 updates, 0.12 s, 11.67 train_loss, 11.45 val_loss\n",
      "20200/30000 updates, 0.12 s, 11.04 train_loss, 11.44 val_loss\n",
      "20300/30000 updates, 0.12 s, 12.24 train_loss, 11.45 val_loss\n",
      "20400/30000 updates, 0.12 s, 10.75 train_loss, 11.46 val_loss\n",
      "20500/30000 updates, 0.12 s, 11.91 train_loss, 11.43 val_loss\n",
      "20600/30000 updates, 0.12 s, 10.78 train_loss, 11.46 val_loss\n",
      "20700/30000 updates, 0.12 s, 12.25 train_loss, 11.44 val_loss\n",
      "20800/30000 updates, 0.12 s, 10.91 train_loss, 11.47 val_loss\n",
      "20900/30000 updates, 0.12 s, 12.65 train_loss, 11.43 val_loss\n",
      "21000/30000 updates, 0.12 s, 11.42 train_loss, 11.48 val_loss\n",
      "21100/30000 updates, 0.12 s, 11.17 train_loss, 11.46 val_loss\n",
      "21200/30000 updates, 0.12 s, 11.21 train_loss, 11.45 val_loss\n",
      "21300/30000 updates, 0.12 s, 10.87 train_loss, 11.46 val_loss\n",
      "21400/30000 updates, 0.12 s, 11.76 train_loss, 11.42 val_loss\n",
      "21500/30000 updates, 0.12 s, 10.76 train_loss, 11.50 val_loss\n",
      "21600/30000 updates, 0.12 s, 13.50 train_loss, 11.43 val_loss\n",
      "21700/30000 updates, 0.12 s, 11.70 train_loss, 11.45 val_loss\n",
      "21800/30000 updates, 0.12 s, 10.93 train_loss, 11.45 val_loss\n",
      "21900/30000 updates, 0.12 s, 12.54 train_loss, 11.42 val_loss\n",
      "22000/30000 updates, 0.12 s, 12.00 train_loss, 11.42 val_loss\n",
      "22100/30000 updates, 0.12 s, 11.16 train_loss, 11.49 val_loss\n",
      "22200/30000 updates, 0.12 s, 11.66 train_loss, 11.44 val_loss\n",
      "22300/30000 updates, 0.12 s, 11.08 train_loss, 11.48 val_loss\n",
      "22400/30000 updates, 0.12 s, 12.54 train_loss, 11.46 val_loss\n",
      "22500/30000 updates, 0.12 s, 11.24 train_loss, 11.44 val_loss\n",
      "22600/30000 updates, 0.12 s, 10.98 train_loss, 11.47 val_loss\n",
      "22700/30000 updates, 0.12 s, 12.40 train_loss, 11.41 val_loss\n",
      "22800/30000 updates, 0.12 s, 11.27 train_loss, 11.44 val_loss\n",
      "22900/30000 updates, 0.12 s, 11.32 train_loss, 11.41 val_loss\n",
      "23000/30000 updates, 0.12 s, 10.68 train_loss, 11.47 val_loss\n",
      "23100/30000 updates, 0.12 s, 11.81 train_loss, 11.48 val_loss\n",
      "23200/30000 updates, 0.12 s, 11.51 train_loss, 11.45 val_loss\n",
      "23300/30000 updates, 0.12 s, 11.27 train_loss, 11.45 val_loss\n",
      "23400/30000 updates, 0.12 s, 10.53 train_loss, 11.45 val_loss\n",
      "23500/30000 updates, 0.12 s, 10.88 train_loss, 11.51 val_loss\n",
      "23600/30000 updates, 0.12 s, 11.17 train_loss, 11.44 val_loss\n",
      "23700/30000 updates, 0.12 s, 10.56 train_loss, 11.45 val_loss\n",
      "23800/30000 updates, 0.12 s, 11.70 train_loss, 11.43 val_loss\n",
      "23900/30000 updates, 0.12 s, 11.76 train_loss, 11.42 val_loss\n",
      "24000/30000 updates, 0.12 s, 11.04 train_loss, 11.43 val_loss\n",
      "24100/30000 updates, 0.12 s, 11.75 train_loss, 11.49 val_loss\n",
      "24200/30000 updates, 0.12 s, 12.46 train_loss, 11.40 val_loss\n",
      "24300/30000 updates, 0.12 s, 11.69 train_loss, 11.50 val_loss\n",
      "24400/30000 updates, 0.12 s, 11.88 train_loss, 11.41 val_loss\n",
      "24500/30000 updates, 0.12 s, 11.49 train_loss, 11.45 val_loss\n",
      "24600/30000 updates, 0.12 s, 11.07 train_loss, 11.46 val_loss\n",
      "24700/30000 updates, 0.12 s, 11.38 train_loss, 11.48 val_loss\n",
      "24800/30000 updates, 0.12 s, 10.89 train_loss, 11.42 val_loss\n",
      "24900/30000 updates, 0.12 s, 10.81 train_loss, 11.41 val_loss\n",
      "25000/30000 updates, 0.12 s, 11.42 train_loss, 11.45 val_loss\n",
      "25100/30000 updates, 0.12 s, 11.56 train_loss, 11.44 val_loss\n",
      "25200/30000 updates, 0.12 s, 11.44 train_loss, 11.40 val_loss\n",
      "25300/30000 updates, 0.12 s, 12.90 train_loss, 11.54 val_loss\n",
      "25400/30000 updates, 0.12 s, 10.91 train_loss, 11.39 val_loss\n",
      "25500/30000 updates, 0.12 s, 11.07 train_loss, 11.45 val_loss\n",
      "25600/30000 updates, 0.12 s, 11.57 train_loss, 11.45 val_loss\n",
      "25700/30000 updates, 0.12 s, 11.46 train_loss, 11.39 val_loss\n",
      "25800/30000 updates, 0.12 s, 10.97 train_loss, 11.39 val_loss\n",
      "25900/30000 updates, 0.12 s, 10.93 train_loss, 11.42 val_loss\n",
      "26000/30000 updates, 0.12 s, 11.84 train_loss, 11.39 val_loss\n",
      "26100/30000 updates, 0.12 s, 12.31 train_loss, 11.39 val_loss\n",
      "26200/30000 updates, 0.12 s, 11.83 train_loss, 11.39 val_loss\n",
      "26300/30000 updates, 0.12 s, 10.81 train_loss, 11.39 val_loss\n",
      "26400/30000 updates, 0.12 s, 11.99 train_loss, 11.46 val_loss\n",
      "26500/30000 updates, 0.12 s, 10.73 train_loss, 11.42 val_loss\n",
      "26600/30000 updates, 0.12 s, 11.37 train_loss, 11.43 val_loss\n",
      "26700/30000 updates, 0.12 s, 10.43 train_loss, 11.42 val_loss\n",
      "26800/30000 updates, 0.12 s, 11.96 train_loss, 11.57 val_loss\n",
      "26900/30000 updates, 0.12 s, 11.35 train_loss, 11.43 val_loss\n",
      "27000/30000 updates, 0.12 s, 11.15 train_loss, 11.39 val_loss\n",
      "27100/30000 updates, 0.12 s, 10.69 train_loss, 11.39 val_loss\n",
      "27200/30000 updates, 0.12 s, 11.86 train_loss, 11.41 val_loss\n",
      "27300/30000 updates, 0.12 s, 12.18 train_loss, 11.42 val_loss\n",
      "27400/30000 updates, 0.12 s, 10.63 train_loss, 11.42 val_loss\n",
      "27500/30000 updates, 0.12 s, 11.29 train_loss, 11.41 val_loss\n",
      "27600/30000 updates, 0.12 s, 12.07 train_loss, 11.41 val_loss\n",
      "27700/30000 updates, 0.12 s, 11.95 train_loss, 11.37 val_loss\n",
      "27800/30000 updates, 0.12 s, 10.69 train_loss, 11.37 val_loss\n",
      "27900/30000 updates, 0.12 s, 10.65 train_loss, 11.40 val_loss\n",
      "28000/30000 updates, 0.12 s, 11.32 train_loss, 11.42 val_loss\n",
      "28100/30000 updates, 0.12 s, 11.89 train_loss, 11.39 val_loss\n",
      "28200/30000 updates, 0.12 s, 10.40 train_loss, 11.39 val_loss\n",
      "28300/30000 updates, 0.12 s, 11.02 train_loss, 11.43 val_loss\n",
      "28400/30000 updates, 0.12 s, 11.80 train_loss, 11.62 val_loss\n",
      "28500/30000 updates, 0.12 s, 11.58 train_loss, 11.62 val_loss\n",
      "28600/30000 updates, 0.12 s, 10.77 train_loss, 11.44 val_loss\n",
      "28700/30000 updates, 0.12 s, 10.62 train_loss, 11.40 val_loss\n",
      "28800/30000 updates, 0.12 s, 11.36 train_loss, 11.40 val_loss\n",
      "28900/30000 updates, 0.12 s, 10.73 train_loss, 11.39 val_loss\n",
      "29000/30000 updates, 0.12 s, 11.51 train_loss, 11.64 val_loss\n",
      "29100/30000 updates, 0.12 s, 11.76 train_loss, 11.41 val_loss\n",
      "29200/30000 updates, 0.12 s, 11.38 train_loss, 11.40 val_loss\n",
      "29300/30000 updates, 0.12 s, 15.21 train_loss, 11.38 val_loss\n",
      "29400/30000 updates, 0.12 s, 10.79 train_loss, 11.37 val_loss\n",
      "29500/30000 updates, 0.12 s, 11.80 train_loss, 11.38 val_loss\n",
      "29600/30000 updates, 0.12 s, 11.19 train_loss, 11.41 val_loss\n",
      "29700/30000 updates, 0.12 s, 11.30 train_loss, 11.42 val_loss\n",
      "29800/30000 updates, 0.12 s, 11.39 train_loss, 11.40 val_loss\n",
      "29900/30000 updates, 0.12 s, 11.08 train_loss, 11.39 val_loss\n"
     ]
    }
   ],
   "source": [
    "batch_pointer = 0\n",
    "\n",
    "start = time.time()\n",
    "best = float(\"inf\")\n",
    "\n",
    "\n",
    "for i in range(max_iter):\n",
    "    x_batch = Xz[batch_pointer: batch_pointer + batch_size, :]\n",
    "    s_batch = S[batch_pointer: batch_pointer + batch_size, :]\n",
    "\n",
    "    _, _loss, _step = sess.run([train_op, loss, global_step], {x_pl: x_batch, s_pl: s_batch, n_pl: n_samples})\n",
    "\n",
    "    batch_pointer += batch_size\n",
    "    \n",
    "    if batch_pointer > N - batch_size:\n",
    "        batch_pointer = 0\n",
    "\n",
    "        p = np.random.permutation(N)\n",
    "        Xz = Xz[p, :]\n",
    "        S = S[p, :]\n",
    "    \n",
    "    if i % 100 == 0:\n",
    "        took = time.time() - start\n",
    "        start = time.time()\n",
    "        \n",
    "        # --- change the following batch if you want a true validation set\n",
    "        x_batch = Xz  \n",
    "        s_batch = S\n",
    "        \n",
    "        val_loss, _step = sess.run([loss, global_step], {x_pl: x_batch, s_pl: s_batch, n_pl: n_samples})\n",
    "\n",
    "        print(\"{0}/{1} updates, {2:.2f} s, {3:.2f} train_loss, {4:.2f} val_loss\".format(i, max_iter, took, _loss, val_loss))\n",
    "\n"
   ]
  },
  {
   "cell_type": "markdown",
   "metadata": {},
   "source": [
    "### Single imputation RMSE\n",
    "The *self-normalized importance sampling* approach for the MIWAE is described in this [paper](https://arxiv.org/pdf/1812.02633.pdf). This needs to be modified slightly in the MNAR case to account for the missing model, as described in the not-MIWAE paper"
   ]
  },
  {
   "cell_type": "code",
   "execution_count": 21,
   "metadata": {
    "collapsed": true
   },
   "outputs": [],
   "source": [
    "def imputationRMSE(sess, Xorg, Xnan, L):\n",
    "\n",
    "    N = len(Xorg)\n",
    "    \n",
    "    Xz = Xnan.copy()\n",
    "    Xz[np.isnan(Xnan)] = 0\n",
    "    S = np.array(~np.isnan(Xnan), dtype=np.float32)\n",
    "\n",
    "    def softmax(x):\n",
    "        e_x = np.exp(x - np.max(x, axis=1)[:, None])\n",
    "        return e_x / e_x.sum(axis=1)[:, None]\n",
    "\n",
    "    def imp(xz, s, L):\n",
    "        _mu, _log_p_x_given_z, _log_p_z, _log_q_z_given_x = sess.run(\n",
    "            [mu, log_p_x_given_z, log_p_z, log_q_z_given_x],\n",
    "            {x_pl: xz, s_pl: s, n_pl: L})\n",
    "\n",
    "        wl = softmax(_log_p_x_given_z + _log_p_z - _log_q_z_given_x)\n",
    "\n",
    "        xm = np.sum((_mu.T * wl.T).T, axis=1)\n",
    "        xmix = xz + xm * (1 - s)\n",
    "\n",
    "        return _mu, wl, xm, xmix\n",
    "\n",
    "    XM = np.zeros_like(Xorg)\n",
    "\n",
    "    for i in range(N):\n",
    "\n",
    "        xz = Xz[i, :][None, :]\n",
    "        s = S[i, :][None, :]\n",
    "\n",
    "        _mu, wl, xm, xmix = imp(xz, s, L)\n",
    "\n",
    "        XM[i, :] = xm\n",
    "\n",
    "        if i % 100 == 0:\n",
    "            print('{0} / {1}'.format(i, N))\n",
    "\n",
    "    return np.sqrt(np.sum((Xorg - XM) ** 2 * (1 - S)) / np.sum(1 - S)), XM\n",
    "\n",
    "\n",
    "def not_imputationRMSE(sess, Xorg, Xnan, L):\n",
    "\n",
    "    N = len(Xorg)\n",
    "    \n",
    "    Xz = Xnan.copy()\n",
    "    Xz[np.isnan(Xnan)] = 0\n",
    "    S = np.array(~np.isnan(Xnan), dtype=np.float32)\n",
    "\n",
    "    def softmax(x):\n",
    "        e_x = np.exp(x - np.max(x, axis=1)[:, None])\n",
    "        return e_x / e_x.sum(axis=1)[:, None]\n",
    "\n",
    "    def imp(xz, s, L):\n",
    "        _mu, _log_p_x_given_z, _log_p_z, _log_q_z_given_x, _log_p_s_given_x  = sess.run(\n",
    "            [mu, log_p_x_given_z, log_p_z, log_q_z_given_x, log_p_s_given_x],\n",
    "            {x_pl: xz, s_pl: s, n_pl: L})\n",
    "\n",
    "        wl = softmax(_log_p_x_given_z + _log_p_s_given_x + _log_p_z - _log_q_z_given_x)\n",
    "\n",
    "        xm = np.sum((_mu.T * wl.T).T, axis=1)\n",
    "        xmix = xz + xm * (1 - s)\n",
    "\n",
    "        return _mu, wl, xm, xmix\n",
    "\n",
    "    XM = np.zeros_like(Xorg)\n",
    "\n",
    "    for i in range(N):\n",
    "\n",
    "        xz = Xz[i, :][None, :]\n",
    "        s = S[i, :][None, :]\n",
    "\n",
    "        _mu, wl, xm, xmix = imp(xz, s, L)\n",
    "\n",
    "        XM[i, :] = xm\n",
    "\n",
    "        if i % 100 == 0:\n",
    "            print('{0} / {1}'.format(i, N))\n",
    "\n",
    "    return np.sqrt(np.sum((Xorg - XM) ** 2 * (1 - S)) / np.sum(1 - S)), XM\n"
   ]
  },
  {
   "cell_type": "markdown",
   "metadata": {},
   "source": [
    "### Calculate the single imputation RMSE using 10k importance samples\n",
    "If you used the MIWAE loss use the imputationRMSE \n",
    "\n",
    "If you used the notMIWAE loss use the not_imputationRMSE"
   ]
  },
  {
   "cell_type": "code",
   "execution_count": 22,
   "metadata": {},
   "outputs": [
    {
     "name": "stdout",
     "output_type": "stream",
     "text": [
      "0 / 4898\n",
      "100 / 4898\n",
      "200 / 4898\n",
      "300 / 4898\n",
      "400 / 4898\n",
      "500 / 4898\n",
      "600 / 4898\n",
      "700 / 4898\n",
      "800 / 4898\n",
      "900 / 4898\n",
      "1000 / 4898\n",
      "1100 / 4898\n",
      "1200 / 4898\n",
      "1300 / 4898\n",
      "1400 / 4898\n",
      "1500 / 4898\n",
      "1600 / 4898\n",
      "1700 / 4898\n",
      "1800 / 4898\n",
      "1900 / 4898\n",
      "2000 / 4898\n",
      "2100 / 4898\n",
      "2200 / 4898\n",
      "2300 / 4898\n",
      "2400 / 4898\n",
      "2500 / 4898\n",
      "2600 / 4898\n",
      "2700 / 4898\n",
      "2800 / 4898\n",
      "2900 / 4898\n",
      "3000 / 4898\n",
      "3100 / 4898\n",
      "3200 / 4898\n",
      "3300 / 4898\n",
      "3400 / 4898\n",
      "3500 / 4898\n",
      "3600 / 4898\n",
      "3700 / 4898\n",
      "3800 / 4898\n",
      "3900 / 4898\n",
      "4000 / 4898\n",
      "4100 / 4898\n",
      "4200 / 4898\n",
      "4300 / 4898\n",
      "4400 / 4898\n",
      "4500 / 4898\n",
      "4600 / 4898\n",
      "4700 / 4898\n",
      "4800 / 4898\n",
      "imputation RMSE:  1.033732313264911\n"
     ]
    }
   ],
   "source": [
    "# ---- S has been permuted during training, so just reinstantiate it\n",
    "S = np.array(~np.isnan(Xnan), dtype=np.float32)\n",
    "\n",
    "rmse, imputations = not_imputationRMSE(sess, Xtrain, Xnan, 10000)\n",
    "# rmse, imputations = imputationRMSE(sess, Xtrain, Xnan, 10000)\n",
    "\n",
    "print(\"imputation RMSE: \", rmse)"
   ]
  },
  {
   "cell_type": "markdown",
   "metadata": {},
   "source": [
    "### Compare to missForest and MICE"
   ]
  },
  {
   "cell_type": "code",
   "execution_count": 23,
   "metadata": {
    "collapsed": true
   },
   "outputs": [],
   "source": [
    "from sklearn.experimental import enable_iterative_imputer\n",
    "from sklearn.impute import IterativeImputer\n",
    "from sklearn.ensemble import RandomForestRegressor"
   ]
  },
  {
   "cell_type": "code",
   "execution_count": 24,
   "metadata": {},
   "outputs": [
    {
     "name": "stderr",
     "output_type": "stream",
     "text": [
      "e:\\ANACONDA\\envs\\py3.10\\lib\\site-packages\\sklearn\\impute\\_iterative.py:785: ConvergenceWarning: [IterativeImputer] Early stopping criterion not reached.\n",
      "  warnings.warn(\n"
     ]
    }
   ],
   "source": [
    "estimator = RandomForestRegressor(n_estimators=100)\n",
    "imp = IterativeImputer(estimator=estimator)\n",
    "imp.fit(Xnan)\n",
    "Xrec = imp.transform(Xnan)\n",
    "rmse_mf = np.sqrt(np.sum((Xtrain - Xrec) ** 2 * (1 - S)) / np.sum(1 - S))"
   ]
  },
  {
   "cell_type": "code",
   "execution_count": 25,
   "metadata": {},
   "outputs": [
    {
     "name": "stdout",
     "output_type": "stream",
     "text": [
      "missForst imputation RMSE:  1.6231673917045206\n"
     ]
    }
   ],
   "source": [
    "print(\"missForst imputation RMSE: \", rmse_mf)"
   ]
  },
  {
   "cell_type": "code",
   "execution_count": 26,
   "metadata": {
    "collapsed": true
   },
   "outputs": [],
   "source": [
    "imp = IterativeImputer(max_iter=100)\n",
    "imp.fit(Xnan)\n",
    "Xrec = imp.transform(Xnan)\n",
    "RMSE_iter = np.sqrt(np.sum((Xtrain - Xrec) ** 2 * (1 - S)) / np.sum(1 - S))"
   ]
  },
  {
   "cell_type": "code",
   "execution_count": 27,
   "metadata": {},
   "outputs": [
    {
     "name": "stdout",
     "output_type": "stream",
     "text": [
      "MICE, imputation RMSE 1.4102763723316905\n"
     ]
    }
   ],
   "source": [
    "print(\"MICE, imputation RMSE\", RMSE_iter)"
   ]
  },
  {
   "cell_type": "markdown",
   "metadata": {},
   "source": [
    "### Inspect the learned missing model\n",
    "There is a separate missing process in each feature dimesion, inspect each of them, plot as function of feature value."
   ]
  },
  {
   "cell_type": "code",
   "execution_count": 28,
   "metadata": {},
   "outputs": [
    {
     "data": {
      "image/png": "[encoded data removed]",
      "text/plain": [
       "<Figure size 640x480 with 1 Axes>"
      ]
     },
     "metadata": {},
     "output_type": "display_data"
    }
   ],
   "source": [
    "_W, _b = sess.run([W, b])\n",
    "x = np.linspace(-2, 2, 100)\n",
    "\n",
    "def sigmoid(logits):\n",
    "    return 1 / (1 + np.exp(-logits))\n",
    "\n",
    "\n",
    "plt.figure()\n",
    "\n",
    "for d in range(D // 2):\n",
    "    logits = _W[0][0][d] * (x - _b[0][0][d])\n",
    "    psx = sigmoid(logits)\n",
    "    plt.plot(x, psx)\n",
    "    \n",
    "plt.xlabel('feature value')\n",
    "plt.ylabel('$p(s|x)$')\n",
    "plt.show()\n",
    "plt.close()"
   ]
  },
  {
   "cell_type": "markdown",
   "metadata": {},
   "source": [
    "This should illustrate that the probability of the feature value being observed when it is below the feature mean should be close to 1, while the probability of being observed above the feature mean should be close to 0."
   ]
  },
  {
   "cell_type": "markdown",
   "metadata": {},
   "source": [
    "### Close the session"
   ]
  },
  {
   "cell_type": "code",
   "execution_count": 29,
   "metadata": {
    "collapsed": true
   },
   "outputs": [],
   "source": [
    "# sess.close()"
   ]
  }
 ],
 "metadata": {
  "kernelspec": {
   "display_name": "base",
   "language": "python",
   "name": "python3"
  },
  "language_info": {
   "codemirror_mode": {
    "name": "ipython",
    "version": 3
   },
   "file_extension": ".py",
   "mimetype": "text/x-python",
   "name": "python",
   "nbconvert_exporter": "python",
   "pygments_lexer": "ipython3",
   "version": "3.10.10"
  }
 },
 "nbformat": 4,
 "nbformat_minor": 2
}
