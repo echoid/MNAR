{
 "cells": [
  {
   "cell_type": "code",
   "execution_count": 4,
   "metadata": {},
   "outputs": [],
   "source": [
    "import numpy as np\n",
    "import pandas as pd\n",
    "import seaborn as sns\n",
    "import matplotlib.pyplot as plt\n",
    "import os"
   ]
  },
  {
   "cell_type": "code",
   "execution_count": 6,
   "metadata": {},
   "outputs": [],
   "source": [
    "def split(n, nfold=5, seed = 1):\n",
    "\n",
    "    indlist = np.arange((n))\n",
    "\n",
    "    np.random.seed(seed)\n",
    "    np.random.shuffle(indlist)\n",
    "\n",
    "    tmp_ratio = 1 / nfold\n",
    "    start = (int)((nfold - 1) * n * tmp_ratio)\n",
    "\n",
    "    end = (int)(nfold * n * tmp_ratio)\n",
    "\n",
    "    test_index = indlist[start:end]\n",
    "    remain_index = np.delete(indlist, np.arange(start, end))\n",
    "\n",
    "    np.random.shuffle(remain_index)\n",
    "\n",
    "    # Modify here to change train,valid ratio\n",
    "    num_train = (int)(len(remain_index) * 0.8)\n",
    "    train_index = remain_index[:num_train]\n",
    "    valid_index = remain_index[num_train:]\n",
    "\n",
    "    return train_index,valid_index,test_index"
   ]
  },
  {
   "cell_type": "code",
   "execution_count": 1,
   "metadata": {},
   "outputs": [
    {
     "name": "stderr",
     "output_type": "stream",
     "text": [
      "e:\\ANACONDA\\envs\\py3.10\\lib\\site-packages\\tqdm\\auto.py:22: TqdmWarning: IProgress not found. Please update jupyter and ipywidgets. See https://ipywidgets.readthedocs.io/en/stable/user_install.html\n",
      "  from .autonotebook import tqdm as notebook_tqdm\n"
     ]
    }
   ],
   "source": [
    "from missing_process.block_rules import *\n",
    "import argparse\n",
    "from data_loaders import *\n",
    "import numpy as np"
   ]
  },
  {
   "cell_type": "code",
   "execution_count": 3,
   "metadata": {},
   "outputs": [],
   "source": [
    "missing_rule = load_json_file(\"single_quantile\" + \".json\")\n",
    "np.random.seed(1)"
   ]
  },
  {
   "cell_type": "code",
   "execution_count": 4,
   "metadata": {},
   "outputs": [],
   "source": [
    "data = dataset_loader('wine_quality_white')"
   ]
  },
  {
   "cell_type": "code",
   "execution_count": 8,
   "metadata": {},
   "outputs": [],
   "source": [
    "train_index,valid_index,test_index = split(data[\"data\"].shape[0])"
   ]
  },
  {
   "cell_type": "code",
   "execution_count": 12,
   "metadata": {},
   "outputs": [
    {
     "data": {
      "text/plain": [
       "(3134, 980, 784)"
      ]
     },
     "execution_count": 12,
     "metadata": {},
     "output_type": "execute_result"
    }
   ],
   "source": [
    "len(train_index),len(test_index),len(valid_index)"
   ]
  },
  {
   "cell_type": "code",
   "execution_count": 13,
   "metadata": {},
   "outputs": [
    {
     "data": {
      "text/plain": [
       "array([[ 5.6  ,  0.26 ,  0.   , ...,  3.44 ,  0.46 , 12.4  ],\n",
       "       [ 7.2  ,  0.585,  0.2  , ...,  3.13 ,  0.4  ,  9.4  ],\n",
       "       [ 5.9  ,  0.21 ,  0.31 , ...,  3.35 ,  0.5  , 12.7  ],\n",
       "       ...,\n",
       "       [ 6.6  ,  0.25 ,  0.3  , ...,  3.02 ,  0.5  ,  9.1  ],\n",
       "       [ 7.1  ,  0.18 ,  0.26 , ...,  3.04 ,  0.74 ,  9.9  ],\n",
       "       [ 7.3  ,  0.19 ,  0.27 , ...,  2.94 ,  0.41 ,  8.8  ]])"
      ]
     },
     "execution_count": 13,
     "metadata": {},
     "output_type": "execute_result"
    }
   ],
   "source": [
    "data[\"data\"][train_index]"
   ]
  },
  {
   "cell_type": "code",
   "execution_count": null,
   "metadata": {},
   "outputs": [],
   "source": [
    "col_num = data[\"data\"].shape[1]\n",
    "max_arr = np.zeros(col_num)\n",
    "min_arr = np.zeros(col_num)\n",
    "mean_arr = np.zeros(col_num)\n",
    "for k in range(col_num):\n",
    "    # Using observed_mask to avoid counting missing values.\n",
    "    obs_ind = dataset.observed_masks[train_index, k].astype(bool)\n",
    "    temp = dataset.observed_values[train_index, k]\n",
    "    max_arr[k] = max(temp[obs_ind])\n",
    "    min_arr[k] = min(temp[obs_ind])"
   ]
  }
 ],
 "metadata": {
  "kernelspec": {
   "display_name": "py3.10",
   "language": "python",
   "name": "python3"
  },
  "language_info": {
   "codemirror_mode": {
    "name": "ipython",
    "version": 3
   },
   "file_extension": ".py",
   "mimetype": "text/x-python",
   "name": "python",
   "nbconvert_exporter": "python",
   "pygments_lexer": "ipython3",
   "version": "3.10.10"
  },
  "orig_nbformat": 4
 },
 "nbformat": 4,
 "nbformat_minor": 2
}
