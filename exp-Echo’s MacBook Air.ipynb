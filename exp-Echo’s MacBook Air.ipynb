{
 "cells": [
  {
   "cell_type": "markdown",
   "metadata": {},
   "source": [
    "### Preamble"
   ]
  },
  {
   "cell_type": "code",
   "execution_count": 14,
   "metadata": {},
   "outputs": [],
   "source": [
    "import numpy as np\n",
    "import tensorflow.compat.v1 as tf\n",
    "tf.disable_v2_behavior()\n",
    "import tensorflow_probability as tfp\n",
    "import keras\n",
    "import matplotlib.pyplot as plt\n",
    "import pandas as pd\n",
    "import time\n",
    "from tqdm import tqdm\n",
    "\n",
    "# import sys\n",
    "# sys.path.append('./')\n",
    "\n",
    "import os\n",
    "os.environ[\"CUDA_VISIBLE_DEVICES\"] = \"6\"\n",
    "\n",
    "plt.rcParams[\"font.family\"] = \"serif\"\n",
    "plt.rcParams['font.size'] = 15.0\n",
    "plt.rcParams['axes.spines.right'] = False\n",
    "plt.rcParams['axes.spines.top'] = False\n",
    "plt.rcParams['savefig.format'] = 'pdf'\n",
    "plt.rcParams['lines.linewidth'] = 2.5\n",
    "\n",
    "n_hidden = 128\n",
    "n_samples = 20\n",
    "max_iter = 30000\n",
    "batch_size = 16\n"
   ]
  },
  {
   "cell_type": "code",
   "execution_count": 24,
   "metadata": {},
   "outputs": [],
   "source": [
    "# https://rmisstastic.netlify.app/how-to/python/generate_html/how%20to%20generate%20missing%20values\n",
    "import wget\n",
    "#wget.download('https://raw.githubusercontent.com/BorisMuzellec/MissingDataOT/master/utils.py')\n",
    "\n",
    "from utils_generation import *\n",
    "import torch"
   ]
  },
  {
   "cell_type": "code",
   "execution_count": 25,
   "metadata": {},
   "outputs": [],
   "source": [
    "# Function produce_NA for generating missing values ------------------------------------------------------\n",
    "\n",
    "def produce_NA(X, p_miss, mecha=\"MCAR\", opt=None, p_obs=0.2, q=None):\n",
    "    \"\"\"\n",
    "    Generate missing values for specifics missing-data mechanism and proportion of missing values. \n",
    "    \n",
    "    Parameters\n",
    "    ----------\n",
    "    X : torch.DoubleTensor or np.ndarray, shape (n, d)\n",
    "        Data for which missing values will be simulated.\n",
    "        If a numpy array is provided, it will be converted to a pytorch tensor.\n",
    "    p_miss : float\n",
    "        Proportion of missing values to generate for variables which will have missing values.\n",
    "    mecha : str, \n",
    "            Indicates the missing-data mechanism to be used. \"MCAR\" by default, \"MAR\", \"MNAR\" or \"MNARsmask\"\n",
    "    opt: str, \n",
    "         For mecha = \"MNAR\", it indicates how the missing-data mechanism is generated: using a logistic regression (\"logistic\"), quantile censorship (\"quantile\") or logistic regression for generating a self-masked MNAR mechanism (\"selfmasked\").\n",
    "    p_obs : float\n",
    "            If mecha = \"MAR\", or mecha = \"MNAR\" with opt = \"logistic\" or \"quanti\", proportion of variables with *no* missing values that will be used for the logistic masking model.\n",
    "    q : float\n",
    "        If mecha = \"MNAR\" and opt = \"quanti\", quantile level at which the cuts should occur.\n",
    "    \n",
    "    Returns\n",
    "    ----------\n",
    "    A dictionnary containing:\n",
    "    'X_init': the initial data matrix.\n",
    "    'X_incomp': the data with the generated missing values.\n",
    "    'mask': a matrix indexing the generated missing values.s\n",
    "    \"\"\"\n",
    "    \n",
    "    to_torch = torch.is_tensor(X) ## output a pytorch tensor, or a numpy array\n",
    "    if not to_torch:\n",
    "        X = X.astype(np.float32)\n",
    "        X = torch.from_numpy(X)\n",
    "    \n",
    "    if mecha == \"MAR\":\n",
    "        mask = MAR_mask(X, p_miss, p_obs).double()\n",
    "    elif mecha == \"MNAR\" and opt == \"logistic\":\n",
    "        mask = MNAR_mask_logistic(X, p_miss, p_obs).double()\n",
    "    elif mecha == \"MNAR\" and opt == \"quantile\":\n",
    "        mask = MNAR_mask_quantiles(X, p_miss, q, 1-p_obs).double()\n",
    "    elif mecha == \"MNAR\" and opt == \"selfmasked\":\n",
    "        mask = MNAR_self_mask_logistic(X, p_miss).double()\n",
    "    else:\n",
    "        mask = (torch.rand(X.shape) < p_miss).double()\n",
    "    \n",
    "    X_nas = X.clone()\n",
    "    X_nas[mask.bool()] = np.nan\n",
    "    \n",
    "    return {'X_init': X.double(), 'X_incomp': X_nas.double(), 'mask': mask}"
   ]
  },
  {
   "cell_type": "code",
   "execution_count": 31,
   "metadata": {},
   "outputs": [],
   "source": [
    "def MNAR_data_process(data):\n",
    "    N, D = data.shape\n",
    "    n_latent = D - 1\n",
    "\n",
    "        # ---- standardize data\n",
    "    data = data - np.mean(data, axis=0)\n",
    "    data = data / np.std(data, axis=0)\n",
    "\n",
    "    # ---- random permutation \n",
    "    p = np.random.permutation(N)\n",
    "    data = data[p, :]\n",
    "\n",
    "    # ---- we use the full dataset for training here, but you can make a train-val split\n",
    "    Xtrain = data.copy()\n",
    "    Xval = Xtrain.copy()\n",
    "\n",
    "    # ---- introduce missing process\n",
    "    Xnan = Xtrain.copy()\n",
    "    Xz = Xtrain.copy()\n",
    "\n",
    "    # Selecte half of them, if the number is less than mean then we seen them as missing\n",
    "    # (Using np.nan or 0 to represent)\n",
    "    mean = np.mean(Xnan[:, :int(D / 2)], axis=0)\n",
    "    ix_larger_than_mean = Xnan[:, :int(D / 2)] > mean\n",
    "\n",
    "    Xnan[:, :int(D / 2)][ix_larger_than_mean] = np.nan\n",
    "    Xz[:, :int(D / 2)][ix_larger_than_mean] = 0\n",
    "\n",
    "    # Mask to indicate if we have missing value\n",
    "    S = np.array(~np.isnan(Xnan), dtype=np.float32)\n",
    "\n",
    "    return N,D,n_latent,p,Xnan,S"
   ]
  },
  {
   "cell_type": "code",
   "execution_count": 34,
   "metadata": {},
   "outputs": [],
   "source": [
    "def MAR_data_process(data):\n",
    "    N, D = data.shape\n",
    "    n_latent = D - 1\n",
    "\n",
    "        # ---- standardize data\n",
    "    data = data - np.mean(data, axis=0)\n",
    "    data = data / np.std(data, axis=0)\n",
    "\n",
    "    # ---- random permutation \n",
    "    p = np.random.permutation(N)\n",
    "    data = data[p, :]\n",
    "\n",
    "    X_miss_mcar = produce_NA(data, p_miss=0.4, mecha=\"MAR\")\n",
    "\n",
    "    X_mcar = X_miss_mcar['X_incomp']\n",
    "    R_mcar = X_miss_mcar['mask']\n",
    "\n",
    "    Xnan = X_miss_mcar['X_incomp']\n",
    "    S = X_miss_mcar['mask']\n",
    "\n",
    "    return N,D,n_latent,p,Xnan.numpy(),S"
   ]
  },
  {
   "cell_type": "code",
   "execution_count": null,
   "metadata": {},
   "outputs": [],
   "source": []
  },
  {
   "cell_type": "markdown",
   "metadata": {},
   "source": [
    "### Load data\n",
    "Here we use the white-wine dataset from the UCI database"
   ]
  },
  {
   "cell_type": "code",
   "execution_count": 3,
   "metadata": {
    "collapsed": true
   },
   "outputs": [],
   "source": [
    "url = \"https://archive.ics.uci.edu/ml/machine-learning-databases/wine-quality/winequality-white.csv\"\n",
    "data1 = np.array(pd.read_csv(url, low_memory=False, sep=';'))\n",
    "# ---- drop the classification attribute\n",
    "categorical_data1 = np.round(data1)\n",
    "numerical_data1 = data1[:, :-1]\n",
    "\n"
   ]
  },
  {
   "cell_type": "code",
   "execution_count": 30,
   "metadata": {},
   "outputs": [],
   "source": [
    "N,D,n_latent,p,Xnan,S = MNAR_data_process(numerical_data1)"
   ]
  },
  {
   "cell_type": "markdown",
   "metadata": {},
   "source": [
    "### Introduce missing \n",
    "Here we denote\n",
    "- Xnan: data matrix with np.nan as the missing entries\n",
    "- Xz: data matrix with 0 as the missing entries\n",
    "- S: missing mask \n",
    "\n",
    "The missing process depends on the missing data itself:\n",
    "- in half the features, set the feature value to missing when it is higher than the feature mean"
   ]
  },
  {
   "cell_type": "markdown",
   "metadata": {},
   "source": [
    "### Build the model\n",
    "The model we are building has a Gaussian prior and a Gaussian observation model,\n",
    "\n",
    "$$ p(\\mathbf{z}) = \\mathcal{N}(\\mathbf{z} | \\mathbf{0}, \\mathbf{I})$$\n",
    "\n",
    "$$ p(\\mathbf{x} | \\mathbf{z}) = \\mathcal{N}(\\mathbf{x} | \\mathbf{\\mu}_{\\theta}(\\mathbf{z}), \\sigma^2\\mathbf{I})$$\n",
    "\n",
    "$$ p(\\mathbf{x}) = \\int p(\\mathbf{x} | \\mathbf{z})p(\\mathbf{z}) d\\mathbf{z}$$\n",
    "\n",
    "where $\\mathbf{\\mu}_{\\theta}(\\mathbf{z}): \\mathbb{R}^d \\rightarrow \\mathbb{R}^p $ in general is a deep neural net, but in this case is a linear mapping, $\\mathbf{\\mu} = \\mathbf{Wz + b}$.\n",
    "\n",
    "The variational posterior is also Gaussian\n",
    "\n",
    "$$q_{\\gamma}(\\mathbf{z} | \\mathbf{x}) = \\mathcal{N}(\\mathbf{z} | \\mu_{\\gamma}(\\mathbf{x}), \\sigma_{\\gamma}(\\mathbf{x})^2 \\mathbf{I})$$\n",
    "\n",
    "If the missing process is *missing at random*, it is ignorable and the ELBO becomes, as described in [the MIWAE paper](https://arxiv.org/abs/1812.02633)\n",
    "\n",
    "$$ E_{\\mathbf{z}_1...\\mathbf{z}_K} \\left[ \\log \\frac{1}{K}\\sum_{k=1}^K \\frac{p_{\\theta}(\\mathbf{x^o} | \\mathbf{z}_k)p(\\mathbf{z}_k)}{q_{\\gamma}(\\mathbf{z}_k | \\mathbf{x^o})} \\right] $$\n",
    "\n",
    "When the missing process is MNAR it is non-ignorable and we need to include the missing model. In this example we include the missing model as a logistic regression in each feature dimension\n",
    "\n",
    "$$ p_{\\phi}(\\mathbf{s} | \\mathbf{x^o, x^m}) = \\text{Bern}(\\mathbf{s} | \\pi_{\\phi}(\\mathbf{x^o, x^m}))$$\n",
    "\n",
    "$$ \\pi_{\\phi, j}(x_j) = \\frac{1}{1 + e^{-\\text{logits}_j}} $$\n",
    "\n",
    "$$ \\text{logits}_j = W_j (x_j - b_j) $$\n",
    "\n",
    "The ELBO in the MNAR case becomes\n",
    "\n",
    "$$ E_{(\\mathbf{z}_1, \\mathbf{x}_1^m)...(\\mathbf{z}_K, \\mathbf{x}_K^m)} \\left[ \\log \\frac{1}{K} \\sum_{k=1}^K \\frac{p_{\\phi}(\\mathbf{s} | \\mathbf{x}^o, \\mathbf{x}_k^m) p_{\\theta}(\\mathbf{x}^o | \\mathbf{z}_k) p(\\mathbf{z}_k)}{q_{\\gamma}(\\mathbf{z} | \\mathbf{x}^o)} \\right]$$\n"
   ]
  },
  {
   "cell_type": "markdown",
   "metadata": {},
   "source": [
    "### Inputs\n",
    "Let's first define the inputs of the model\n",
    "- x_pl: data input\n",
    "- s_pl: mask input\n",
    "- n_pl: number of importance samples"
   ]
  },
  {
   "cell_type": "code",
   "execution_count": 12,
   "metadata": {},
   "outputs": [],
   "source": [
    "def imputationRMSE(sess, Xorg, Xnan, L, mu, log_p_x_given_z, log_p_z, log_q_z_given_x,x_pl,s_pl,n_pl):\n",
    "\n",
    "    N = len(Xorg)\n",
    "    \n",
    "    Xz = Xnan.copy()\n",
    "    Xz[np.isnan(Xnan)] = 0\n",
    "    S = np.array(~np.isnan(Xnan), dtype=np.float32)\n",
    "\n",
    "    def softmax(x):\n",
    "        e_x = np.exp(x - np.max(x, axis=1)[:, None])\n",
    "        return e_x / e_x.sum(axis=1)[:, None]\n",
    "\n",
    "    def imp(xz, s, L,mu, log_p_x_given_z, log_p_z, log_q_z_given_x,x_pl,s_pl,n_pl):\n",
    "        _mu, _log_p_x_given_z, _log_p_z, _log_q_z_given_x = sess.run(\n",
    "            [mu, log_p_x_given_z, log_p_z, log_q_z_given_x],\n",
    "            {x_pl: xz, s_pl: s, n_pl: L})\n",
    "\n",
    "        wl = softmax(_log_p_x_given_z + _log_p_z - _log_q_z_given_x)\n",
    "\n",
    "        xm = np.sum((_mu.T * wl.T).T, axis=1)\n",
    "        xmix = xz + xm * (1 - s)\n",
    "\n",
    "        return _mu, wl, xm, xmix\n",
    "\n",
    "    XM = np.zeros_like(Xorg)\n",
    "\n",
    "    for i in tqdm(range(N)):\n",
    "\n",
    "        xz = Xz[i, :][None, :]\n",
    "        s = S[i, :][None, :]\n",
    "\n",
    "        _mu, wl, xm, xmix = imp(xz, s, L,mu, log_p_x_given_z, log_p_z, log_q_z_given_x,x_pl,s_pl,n_pl)\n",
    "\n",
    "        XM[i, :] = xm\n",
    "\n",
    "        # if i % 100 == 0:\n",
    "        #     print('{0} / {1}'.format(i, N))\n",
    "\n",
    "    return np.sqrt(np.sum((Xorg - XM) ** 2 * (1 - S)) / np.sum(1 - S)), XM\n",
    "\n",
    "\n",
    "def not_imputationRMSE(sess, Xorg, Xnan, L,mu, log_p_x_given_z, log_p_z, log_q_z_given_x, log_p_s_given_x,x_pl,s_pl,n_pl):\n",
    "\n",
    "    N = len(Xorg)\n",
    "    \n",
    "    Xz = Xnan.copy()\n",
    "    Xz[np.isnan(Xnan)] = 0\n",
    "    S = np.array(~np.isnan(Xnan), dtype=np.float32)\n",
    "\n",
    "    def softmax(x):\n",
    "        e_x = np.exp(x - np.max(x, axis=1)[:, None])\n",
    "        return e_x / e_x.sum(axis=1)[:, None]\n",
    "\n",
    "    def imp(xz, s, L,mu, log_p_x_given_z, log_p_z, log_q_z_given_x, log_p_s_given_x,x_pl,s_pl,n_pl):                                      # new item\n",
    "        _mu, _log_p_x_given_z, _log_p_z, _log_q_z_given_x, _log_p_s_given_x  = sess.run(\n",
    "            [mu, log_p_x_given_z, log_p_z, log_q_z_given_x, log_p_s_given_x],\n",
    "            {x_pl: xz, s_pl: s, n_pl: L})\n",
    "                                         # new item\n",
    "        wl = softmax(_log_p_x_given_z + _log_p_s_given_x + _log_p_z - _log_q_z_given_x)\n",
    "\n",
    "        xm = np.sum((_mu.T * wl.T).T, axis=1)\n",
    "        xmix = xz + xm * (1 - s)\n",
    "\n",
    "        return _mu, wl, xm, xmix\n",
    "\n",
    "    XM = np.zeros_like(Xorg)\n",
    "\n",
    "    for i in tqdm(range(N)):\n",
    "\n",
    "        xz = Xz[i, :][None, :]\n",
    "        s = S[i, :][None, :]\n",
    "\n",
    "        _mu, wl, xm, xmix = imp(xz, s, L,mu, log_p_x_given_z, log_p_z, log_q_z_given_x, log_p_s_given_x,x_pl,s_pl,n_pl)\n",
    "\n",
    "        XM[i, :] = xm\n",
    "\n",
    "        # if i % 100 == 0:\n",
    "        #     print('{0} / {1}'.format(i, N))\n",
    "\n",
    "    return np.sqrt(np.sum((Xorg - XM) ** 2 * (1 - S)) / np.sum(1 - S)), XM"
   ]
  },
  {
   "cell_type": "code",
   "execution_count": null,
   "metadata": {},
   "outputs": [],
   "source": []
  },
  {
   "cell_type": "code",
   "execution_count": 16,
   "metadata": {},
   "outputs": [],
   "source": [
    "def model(N,D,S,Xz,Xnan, type = \"non-MIWAE\"):\n",
    "    print(\"Creating graph...\")\n",
    "    tf.reset_default_graph()\n",
    "    # ---- input\n",
    "    with tf.variable_scope('input'):\n",
    "        x_pl = tf.placeholder(tf.float32, [None, D], 'x_pl')\n",
    "        s_pl = tf.placeholder(tf.float32, [None, D], 's_pl')\n",
    "        n_pl = tf.placeholder(tf.int32, shape=(), name='n_pl')\n",
    "    # ---- parameters\n",
    "    with tf.variable_scope('data_process'):\n",
    "        logstd = tf.get_variable('logstd', shape=[])\n",
    "\n",
    "\n",
    "    # encoder\n",
    "    x = keras.layers.Dense(units=n_hidden, activation=tf.nn.tanh, name='l_enc1')(x_pl)\n",
    "    x = keras.layers.Dense(units=n_hidden, activation=tf.nn.tanh, name='l_enc2')(x)\n",
    "\n",
    "    q_mu = keras.layers.Dense(units=n_latent, activation=None, name='q_mu')(x)\n",
    "\n",
    "    q_logstd = keras.layers.Dense(units=n_latent, activation=lambda x: tf.clip_by_value(x, -10, 10),\n",
    "                            name='q_logstd')(x)\n",
    "\n",
    "\n",
    "    q_z = tfp.distributions.Normal(loc=q_mu, scale=tf.exp(q_logstd))\n",
    "\n",
    "    # ---- sample the latent value\n",
    "    l_z = q_z.sample(n_pl)                    # shape [n_samples, batch_size, dl]\n",
    "    l_z = tf.transpose(l_z, perm=[1, 0, 2])   # shape [batch_size, n_samples, dl]\n",
    "\n",
    "    # decoder\n",
    "    mu = keras.layers.Dense(units=D, activation=None, name='mu')(l_z)\n",
    "\n",
    "    # likelihood\n",
    "\n",
    "    p_x_given_z = tfp.distributions.Normal(loc=mu, scale=tf.exp(logstd))\n",
    "\n",
    "    l_out_mixed = mu * tf.expand_dims(1 - s_pl, axis=1) + tf.expand_dims(x_pl * s_pl, axis=1)\n",
    "\n",
    "\n",
    "\n",
    "    W = tf.get_variable('W', shape=[1, 1, D])\n",
    "    W = -tf.nn.softplus(W)\n",
    "    b = tf.get_variable('b', shape=[1, 1, D])\n",
    "\n",
    "    logits = W * (l_out_mixed - b)\n",
    "\n",
    "    p_s_given_x = tfp.distributions.Bernoulli(logits=logits)\n",
    "\n",
    "\n",
    "\n",
    "    # ---- evaluate the observed data in p(x|z)\n",
    "    log_p_x_given_z = tf.reduce_sum(tf.expand_dims(s_pl, axis=1) * \n",
    "                                    p_x_given_z.log_prob(tf.expand_dims(x_pl, axis=1)), axis=-1)  # sum over d-dimension\n",
    "\n",
    "    # --- evaluate the z-samples in q(z|x)\n",
    "    q_z2 = tfp.distributions.Normal(loc=tf.expand_dims(q_z.loc, axis=1), scale=tf.expand_dims(q_z.scale, axis=1))\n",
    "    log_q_z_given_x = tf.reduce_sum(q_z2.log_prob(l_z), axis=-1)\n",
    "\n",
    "    # ---- evaluate the z-samples in the prior p(z)\n",
    "    prior = tfp.distributions.Normal(loc=0.0, scale=1.0)\n",
    "    log_p_z = tf.reduce_sum(prior.log_prob(l_z), axis=-1)\n",
    "\n",
    "    # ---- evaluate the mask in p(s|x)\n",
    "    log_p_s_given_x = tf.reduce_sum(p_s_given_x.log_prob(tf.expand_dims(s_pl, axis=1)), axis=-1)\n",
    "\n",
    "\n",
    "\n",
    "\n",
    "\n",
    "    lpxz = log_p_x_given_z\n",
    "    lpz = log_p_z\n",
    "    lqzx = log_q_z_given_x\n",
    "    # the additional term for MNAR\n",
    "    lpsx = log_p_s_given_x\n",
    "\n",
    "    # ---- MIWAE\n",
    "    # ---- importance weights\n",
    "    l_w = lpxz + lpz - lqzx\n",
    "\n",
    "    # ---- sum over samples\n",
    "    log_sum_w = tf.reduce_logsumexp(l_w, axis=1)\n",
    "\n",
    "    # ---- average over samples\n",
    "    log_avg_weight = log_sum_w - tf.log(tf.cast(n_pl, tf.float32))\n",
    "\n",
    "    # ---- average over minibatch to get the average llh\n",
    "    MIWAE = tf.reduce_mean(log_avg_weight, axis=-1)\n",
    "\n",
    "\n",
    "    # ---- not-MIWAE\n",
    "    # ---- importance weights\n",
    "    l_w = lpxz + lpsx + lpz - lqzx\n",
    "\n",
    "    # ---- sum over samples\n",
    "    log_sum_w = tf.reduce_logsumexp(l_w, axis=1)\n",
    "\n",
    "    # ---- average over samples\n",
    "    log_avg_weight = log_sum_w - tf.log(tf.cast(n_pl, tf.float32))\n",
    "\n",
    "    # ---- average over minibatch to get the average llh\n",
    "    notMIWAE = tf.reduce_mean(log_avg_weight, axis=-1)\n",
    "\n",
    "\n",
    "\n",
    "    # ---- training stuff\n",
    "    config = tf.ConfigProto()\n",
    "    config.gpu_options.allow_growth = True\n",
    "    sess = tf.Session(config=config)\n",
    "    global_step = tf.Variable(initial_value=0, trainable=False)\n",
    "    optimizer = tf.train.AdamOptimizer()\n",
    "\n",
    "    if type == \"notMIWAE\":\n",
    "\n",
    "        loss = -notMIWAE\n",
    "    else:\n",
    "        loss = -MIWAE\n",
    "\n",
    "    tvars = tf.trainable_variables()\n",
    "    train_op = optimizer.minimize(loss, global_step=global_step, var_list=tvars)\n",
    "    sess.run(tf.global_variables_initializer())\n",
    "\n",
    "\n",
    "\n",
    "    batch_pointer = 0\n",
    "\n",
    "    start = time.time()\n",
    "    best = float(\"inf\")\n",
    "\n",
    "\n",
    "    for i in tqdm(range(max_iter)):\n",
    "        x_batch = Xz[batch_pointer: batch_pointer + batch_size, :]\n",
    "        s_batch = S[batch_pointer: batch_pointer + batch_size, :]\n",
    "\n",
    "        _, _loss, _step = sess.run([train_op, loss, global_step], {x_pl: x_batch, s_pl: s_batch, n_pl: n_samples})\n",
    "\n",
    "        batch_pointer += batch_size\n",
    "        \n",
    "        if batch_pointer > N - batch_size:\n",
    "            batch_pointer = 0\n",
    "\n",
    "            p = np.random.permutation(N)\n",
    "            Xz = Xz[p, :]\n",
    "            S = S[p, :]\n",
    "        \n",
    "        if i % 100 == 0:\n",
    "            took = time.time() - start\n",
    "            start = time.time()\n",
    "            \n",
    "            # --- change the following batch if you want a true validation set\n",
    "            x_batch = Xz  \n",
    "            s_batch = S\n",
    "            \n",
    "            val_loss, _step = sess.run([loss, global_step], {x_pl: x_batch, s_pl: s_batch, n_pl: n_samples})\n",
    "\n",
    "            #print(\"{0}/{1} updates, {2:.2f} s, {3:.2f} train_loss, {4:.2f} val_loss\".format(i, max_iter, took, _loss, val_loss))\n",
    "\n",
    "\n",
    "    # ---- S has been permuted during training, so just reinstantiate it\n",
    "    S = np.array(~np.isnan(Xnan), dtype=np.float32)\n",
    "    \n",
    "    if type ==\"non-MIWAE\":\n",
    "        rmse, imputations = not_imputationRMSE(sess, Xtrain, Xnan, 10000,mu, log_p_x_given_z, log_p_z, log_q_z_given_x, log_p_s_given_x,x_pl,s_pl,n_pl)\n",
    "\n",
    "    else: \n",
    "        rmse, imputations = imputationRMSE(sess, Xtrain, Xnan, 10000, mu, log_p_x_given_z, log_p_z, log_q_z_given_x,x_pl,s_pl,n_pl)\n",
    "\n",
    "    print(\"imputation RMSE: \", rmse)\n",
    "\n",
    "    "
   ]
  },
  {
   "cell_type": "code",
   "execution_count": 18,
   "metadata": {},
   "outputs": [
    {
     "name": "stdout",
     "output_type": "stream",
     "text": [
      "Creating graph...\n"
     ]
    },
    {
     "name": "stderr",
     "output_type": "stream",
     "text": [
      "100%|██████████| 30000/30000 [00:31<00:00, 959.32it/s]\n"
     ]
    },
    {
     "name": "stdout",
     "output_type": "stream",
     "text": [
      "imputation RMSE:  1.5586905532031796\n"
     ]
    }
   ],
   "source": [
    "# Numerical data and MNAR\n",
    "model(N,D,S,Xz,Xnan, type = \"non-MIWAE\")"
   ]
  },
  {
   "cell_type": "code",
   "execution_count": 17,
   "metadata": {},
   "outputs": [
    {
     "name": "stdout",
     "output_type": "stream",
     "text": [
      "Creating graph...\n"
     ]
    },
    {
     "name": "stderr",
     "output_type": "stream",
     "text": [
      "100%|██████████| 30000/30000 [00:30<00:00, 968.01it/s]\n"
     ]
    },
    {
     "name": "stdout",
     "output_type": "stream",
     "text": [
      "imputation RMSE:  1.5799188086808005\n"
     ]
    }
   ],
   "source": [
    "# Numerical data and MNAR\n",
    "model(N,D,S,Xz,Xnan, type = \"MIWAE\")"
   ]
  },
  {
   "cell_type": "code",
   "execution_count": 36,
   "metadata": {},
   "outputs": [],
   "source": [
    "N,D,n_latent,p,Xnan,S = MAR_data_process(numerical_data1)"
   ]
  },
  {
   "cell_type": "code",
   "execution_count": 37,
   "metadata": {},
   "outputs": [
    {
     "name": "stdout",
     "output_type": "stream",
     "text": [
      "Creating graph...\n"
     ]
    },
    {
     "name": "stderr",
     "output_type": "stream",
     "text": [
      "100%|██████████| 30000/30000 [00:32<00:00, 930.64it/s]\n"
     ]
    },
    {
     "name": "stdout",
     "output_type": "stream",
     "text": [
      "imputation RMSE:  1.1287665575390922\n"
     ]
    }
   ],
   "source": [
    "# Numerical data and MAR\n",
    "model(N,D,S,Xz,Xnan, type = \"non-MIWAE\")"
   ]
  },
  {
   "cell_type": "code",
   "execution_count": 38,
   "metadata": {},
   "outputs": [
    {
     "name": "stdout",
     "output_type": "stream",
     "text": [
      "Creating graph...\n"
     ]
    },
    {
     "name": "stderr",
     "output_type": "stream",
     "text": [
      "100%|██████████| 30000/30000 [00:31<00:00, 943.72it/s]\n"
     ]
    },
    {
     "name": "stdout",
     "output_type": "stream",
     "text": [
      "imputation RMSE:  1.159302440433158\n"
     ]
    }
   ],
   "source": [
    "# Numerical data and MAR\n",
    "model(N,D,S,Xz,Xnan, type = \"MIWAE\")"
   ]
  },
  {
   "cell_type": "code",
   "execution_count": null,
   "metadata": {},
   "outputs": [],
   "source": []
  },
  {
   "cell_type": "code",
   "execution_count": null,
   "metadata": {},
   "outputs": [],
   "source": []
  },
  {
   "cell_type": "markdown",
   "metadata": {},
   "source": [
    "### Compare to missForest and MICE"
   ]
  },
  {
   "cell_type": "code",
   "execution_count": 32,
   "metadata": {
    "collapsed": true
   },
   "outputs": [],
   "source": [
    "from sklearn.experimental import enable_iterative_imputer\n",
    "from sklearn.impute import IterativeImputer\n",
    "from sklearn.ensemble import RandomForestRegressor"
   ]
  },
  {
   "cell_type": "code",
   "execution_count": 33,
   "metadata": {},
   "outputs": [
    {
     "name": "stderr",
     "output_type": "stream",
     "text": [
      "/opt/homebrew/lib/python3.10/site-packages/sklearn/impute/_iterative.py:785: ConvergenceWarning: [IterativeImputer] Early stopping criterion not reached.\n",
      "  warnings.warn(\n"
     ]
    },
    {
     "ename": "ValueError",
     "evalue": "operands could not be broadcast together with shapes (4898,12) (4898,10) ",
     "output_type": "error",
     "traceback": [
      "\u001b[0;31m---------------------------------------------------------------------------\u001b[0m",
      "\u001b[0;31mValueError\u001b[0m                                Traceback (most recent call last)",
      "Cell \u001b[0;32mIn[33], line 5\u001b[0m\n\u001b[1;32m      3\u001b[0m imp\u001b[39m.\u001b[39mfit(Xnan)\n\u001b[1;32m      4\u001b[0m Xrec \u001b[39m=\u001b[39m imp\u001b[39m.\u001b[39mtransform(Xnan)\n\u001b[0;32m----> 5\u001b[0m rmse_mf \u001b[39m=\u001b[39m np\u001b[39m.\u001b[39msqrt(np\u001b[39m.\u001b[39msum((Xtrain \u001b[39m-\u001b[39;49m Xrec) \u001b[39m*\u001b[39m\u001b[39m*\u001b[39m \u001b[39m2\u001b[39m \u001b[39m*\u001b[39m (\u001b[39m1\u001b[39m \u001b[39m-\u001b[39m S)) \u001b[39m/\u001b[39m np\u001b[39m.\u001b[39msum(\u001b[39m1\u001b[39m \u001b[39m-\u001b[39m S))\n",
      "\u001b[0;31mValueError\u001b[0m: operands could not be broadcast together with shapes (4898,12) (4898,10) "
     ]
    }
   ],
   "source": [
    "estimator = RandomForestRegressor(n_estimators=100)\n",
    "imp = IterativeImputer(estimator=estimator)\n",
    "imp.fit(Xnan)\n",
    "Xrec = imp.transform(Xnan)\n",
    "rmse_mf = np.sqrt(np.sum((Xtrain - Xrec) ** 2 * (1 - S)) / np.sum(1 - S))"
   ]
  },
  {
   "cell_type": "code",
   "execution_count": null,
   "metadata": {},
   "outputs": [
    {
     "name": "stdout",
     "output_type": "stream",
     "text": [
      "missForst imputation RMSE:  1.6266977288476672\n"
     ]
    }
   ],
   "source": [
    "print(\"missForst imputation RMSE: \", rmse_mf)"
   ]
  },
  {
   "cell_type": "code",
   "execution_count": null,
   "metadata": {
    "collapsed": true
   },
   "outputs": [],
   "source": [
    "imp = IterativeImputer(max_iter=100)\n",
    "imp.fit(Xnan)\n",
    "Xrec = imp.transform(Xnan)\n",
    "RMSE_iter = np.sqrt(np.sum((Xtrain - Xrec) ** 2 * (1 - S)) / np.sum(1 - S))"
   ]
  },
  {
   "cell_type": "code",
   "execution_count": null,
   "metadata": {},
   "outputs": [
    {
     "name": "stdout",
     "output_type": "stream",
     "text": [
      "MICE, imputation RMSE 1.410276372331692\n"
     ]
    }
   ],
   "source": [
    "print(\"MICE, imputation RMSE\", RMSE_iter)"
   ]
  },
  {
   "attachments": {},
   "cell_type": "markdown",
   "metadata": {},
   "source": [
    "MAR missing data imputation performance:\n",
    "\n",
    "* Non - MIWAE RMSE: 1.04\n",
    "* MIWAE RMSE: 1.38\n",
    "* missForest RMSE: 1.62\n",
    "* MICE RMSE: 1.41"
   ]
  },
  {
   "cell_type": "markdown",
   "metadata": {},
   "source": []
  },
  {
   "cell_type": "markdown",
   "metadata": {},
   "source": []
  },
  {
   "cell_type": "markdown",
   "metadata": {},
   "source": []
  },
  {
   "cell_type": "markdown",
   "metadata": {},
   "source": []
  },
  {
   "cell_type": "markdown",
   "metadata": {},
   "source": []
  },
  {
   "cell_type": "markdown",
   "metadata": {},
   "source": []
  },
  {
   "cell_type": "markdown",
   "metadata": {},
   "source": [
    "### Inspect the learned missing model\n",
    "There is a separate missing process in each feature dimesion, inspect each of them, plot as function of feature value."
   ]
  },
  {
   "cell_type": "code",
   "execution_count": 48,
   "metadata": {},
   "outputs": [
    {
     "data": {
      "image/png": "[encoded data removed]",
      "text/plain": [
       "<Figure size 640x480 with 1 Axes>"
      ]
     },
     "metadata": {},
     "output_type": "display_data"
    }
   ],
   "source": [
    "_W, _b = sess.run([W, b])\n",
    "x = np.linspace(-2, 2, 100)\n",
    "\n",
    "def sigmoid(logits):\n",
    "    return 1 / (1 + np.exp(-logits))\n",
    "\n",
    "\n",
    "plt.figure()\n",
    "\n",
    "for d in range(D // 2):\n",
    "    logits = _W[0][0][d] * (x - _b[0][0][d])\n",
    "    psx = sigmoid(logits)\n",
    "    plt.plot(x, psx)\n",
    "    \n",
    "plt.xlabel('feature value')\n",
    "plt.ylabel('$p(s|x)$')\n",
    "plt.show()\n",
    "plt.close()"
   ]
  },
  {
   "cell_type": "markdown",
   "metadata": {},
   "source": [
    "This should illustrate that the probability of the feature value being observed when it is below the feature mean should be close to 1, while the probability of being observed above the feature mean should be close to 0."
   ]
  },
  {
   "cell_type": "markdown",
   "metadata": {},
   "source": [
    "### Close the session"
   ]
  },
  {
   "cell_type": "code",
   "execution_count": null,
   "metadata": {
    "collapsed": true
   },
   "outputs": [],
   "source": [
    "# sess.close()"
   ]
  }
 ],
 "metadata": {
  "kernelspec": {
   "display_name": "base",
   "language": "python",
   "name": "python3"
  },
  "language_info": {
   "codemirror_mode": {
    "name": "ipython",
    "version": 3
   },
   "file_extension": ".py",
   "mimetype": "text/x-python",
   "name": "python",
   "nbconvert_exporter": "python",
   "pygments_lexer": "ipython3",
   "version": "3.10.10"
  }
 },
 "nbformat": 4,
 "nbformat_minor": 2
}
